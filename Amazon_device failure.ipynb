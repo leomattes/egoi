{
 "cells": [
  {
   "cell_type": "markdown",
   "metadata": {},
   "source": [
    "# Reduce maintenance cost through predictive techniques"
   ]
  },
  {
   "cell_type": "markdown",
   "metadata": {},
   "source": [
    "## Background\n",
    "Company (3D Technologies) has a fleet of devices transmitting daily aggregated telemetry\n",
    "attributes.\n",
    "Predictive maintenance techniques are designed to help determine the condition of in-service\n",
    "equipment in order to predict when maintenance should be performed. This approach\n",
    "promises cost savings over routine or time-based preventive maintenance, because tasks are\n",
    "performed only when warranted.\n",
    "## Goal\n",
    "You are tasked with building a predictive model using machine learning to predict the\n",
    "probability of a device failure. When building this model, be sure to minimize false positives and\n",
    "false negatives. The column you are trying to predict is called failure with binary value 0 for\n",
    "non-failure and 1 for failure.\n",
    "\n",
    "## Data\n",
    "\n",
    "Download link: http://aws-proserve-data-science.s3.amazonaws.com/device_failure.csv\n",
    "\n",
    "columns :\n",
    "date -> YYYY-MM-DD format\n",
    "device -> device did \n",
    "failure  ->non-failure is 0, failure is 1\n",
    "attribute1 - attribute9 - >  daily aggregated telemetry\n",
    "\n"
   ]
  },
  {
   "cell_type": "markdown",
   "metadata": {},
   "source": [
    "### 1. Data exploration"
   ]
  },
  {
   "cell_type": "code",
   "execution_count": 1,
   "metadata": {},
   "outputs": [
    {
     "name": "stdout",
     "output_type": "stream",
     "text": [
      "--2020-06-07 11:54:55--  http://aws-proserve-data-science.s3.amazonaws.com/device_failure.csv\n",
      "Resolving aws-proserve-data-science.s3.amazonaws.com (aws-proserve-data-science.s3.amazonaws.com)... 52.218.249.82\n",
      "Connecting to aws-proserve-data-science.s3.amazonaws.com (aws-proserve-data-science.s3.amazonaws.com)|52.218.249.82|:80... connected.\n",
      "HTTP request sent, awaiting response... 200 OK\n",
      "Length: 6856222 (6,5M) [text/csv]\n",
      "Saving to: ‘device_failure.csv.14’\n",
      "\n",
      "device_failure.csv. 100%[===================>]   6,54M  2,05MB/s    in 3,2s    \n",
      "\n",
      "2020-06-07 11:54:59 (2,05 MB/s) - ‘device_failure.csv.14’ saved [6856222/6856222]\n",
      "\n"
     ]
    }
   ],
   "source": [
    "# get the data from the source \n",
    "!wget http://aws-proserve-data-science.s3.amazonaws.com/device_failure.csv\n",
    "\n"
   ]
  },
  {
   "cell_type": "code",
   "execution_count": 2,
   "metadata": {},
   "outputs": [
    {
     "data": {
      "text/html": [
       "<div>\n",
       "<style scoped>\n",
       "    .dataframe tbody tr th:only-of-type {\n",
       "        vertical-align: middle;\n",
       "    }\n",
       "\n",
       "    .dataframe tbody tr th {\n",
       "        vertical-align: top;\n",
       "    }\n",
       "\n",
       "    .dataframe thead th {\n",
       "        text-align: right;\n",
       "    }\n",
       "</style>\n",
       "<table border=\"1\" class=\"dataframe\">\n",
       "  <thead>\n",
       "    <tr style=\"text-align: right;\">\n",
       "      <th></th>\n",
       "      <th>date</th>\n",
       "      <th>device</th>\n",
       "      <th>failure</th>\n",
       "      <th>attribute1</th>\n",
       "      <th>attribute2</th>\n",
       "      <th>attribute3</th>\n",
       "      <th>attribute4</th>\n",
       "      <th>attribute5</th>\n",
       "      <th>attribute6</th>\n",
       "      <th>attribute7</th>\n",
       "      <th>attribute8</th>\n",
       "      <th>attribute9</th>\n",
       "    </tr>\n",
       "  </thead>\n",
       "  <tbody>\n",
       "    <tr>\n",
       "      <th>0</th>\n",
       "      <td>2015-01-01</td>\n",
       "      <td>S1F01085</td>\n",
       "      <td>0</td>\n",
       "      <td>215630672</td>\n",
       "      <td>56</td>\n",
       "      <td>0</td>\n",
       "      <td>52</td>\n",
       "      <td>6</td>\n",
       "      <td>407438</td>\n",
       "      <td>0</td>\n",
       "      <td>0</td>\n",
       "      <td>7</td>\n",
       "    </tr>\n",
       "    <tr>\n",
       "      <th>1</th>\n",
       "      <td>2015-01-01</td>\n",
       "      <td>S1F0166B</td>\n",
       "      <td>0</td>\n",
       "      <td>61370680</td>\n",
       "      <td>0</td>\n",
       "      <td>3</td>\n",
       "      <td>0</td>\n",
       "      <td>6</td>\n",
       "      <td>403174</td>\n",
       "      <td>0</td>\n",
       "      <td>0</td>\n",
       "      <td>0</td>\n",
       "    </tr>\n",
       "    <tr>\n",
       "      <th>2</th>\n",
       "      <td>2015-01-01</td>\n",
       "      <td>S1F01E6Y</td>\n",
       "      <td>0</td>\n",
       "      <td>173295968</td>\n",
       "      <td>0</td>\n",
       "      <td>0</td>\n",
       "      <td>0</td>\n",
       "      <td>12</td>\n",
       "      <td>237394</td>\n",
       "      <td>0</td>\n",
       "      <td>0</td>\n",
       "      <td>0</td>\n",
       "    </tr>\n",
       "    <tr>\n",
       "      <th>3</th>\n",
       "      <td>2015-01-01</td>\n",
       "      <td>S1F01JE0</td>\n",
       "      <td>0</td>\n",
       "      <td>79694024</td>\n",
       "      <td>0</td>\n",
       "      <td>0</td>\n",
       "      <td>0</td>\n",
       "      <td>6</td>\n",
       "      <td>410186</td>\n",
       "      <td>0</td>\n",
       "      <td>0</td>\n",
       "      <td>0</td>\n",
       "    </tr>\n",
       "    <tr>\n",
       "      <th>4</th>\n",
       "      <td>2015-01-01</td>\n",
       "      <td>S1F01R2B</td>\n",
       "      <td>0</td>\n",
       "      <td>135970480</td>\n",
       "      <td>0</td>\n",
       "      <td>0</td>\n",
       "      <td>0</td>\n",
       "      <td>15</td>\n",
       "      <td>313173</td>\n",
       "      <td>0</td>\n",
       "      <td>0</td>\n",
       "      <td>3</td>\n",
       "    </tr>\n",
       "  </tbody>\n",
       "</table>\n",
       "</div>"
      ],
      "text/plain": [
       "         date    device  failure  attribute1  attribute2  attribute3  \\\n",
       "0  2015-01-01  S1F01085        0   215630672          56           0   \n",
       "1  2015-01-01  S1F0166B        0    61370680           0           3   \n",
       "2  2015-01-01  S1F01E6Y        0   173295968           0           0   \n",
       "3  2015-01-01  S1F01JE0        0    79694024           0           0   \n",
       "4  2015-01-01  S1F01R2B        0   135970480           0           0   \n",
       "\n",
       "   attribute4  attribute5  attribute6  attribute7  attribute8  attribute9  \n",
       "0          52           6      407438           0           0           7  \n",
       "1           0           6      403174           0           0           0  \n",
       "2           0          12      237394           0           0           0  \n",
       "3           0           6      410186           0           0           0  \n",
       "4           0          15      313173           0           0           3  "
      ]
     },
     "execution_count": 2,
     "metadata": {},
     "output_type": "execute_result"
    }
   ],
   "source": [
    "import pandas as pd\n",
    "import numpy as np\n",
    "device_df =  pd.read_csv('device_failure.csv', encoding = \"ISO-8859-1\")\n",
    "device_df.head(4)\n",
    "\n",
    "device_df.head()"
   ]
  },
  {
   "cell_type": "code",
   "execution_count": 3,
   "metadata": {},
   "outputs": [
    {
     "name": "stderr",
     "output_type": "stream",
     "text": [
      "/home/leo/.local/lib/python3.6/site-packages/ipykernel_launcher.py:8: UserWarning: To output multiple subplots, the figure containing the passed axes is being cleared\n",
      "  \n"
     ]
    },
    {
     "data": {
      "text/plain": [
       "array([[<matplotlib.axes._subplots.AxesSubplot object at 0x7fc3ea9a09b0>,\n",
       "        <matplotlib.axes._subplots.AxesSubplot object at 0x7fc3e71ceb00>,\n",
       "        <matplotlib.axes._subplots.AxesSubplot object at 0x7fc3e7185d68>],\n",
       "       [<matplotlib.axes._subplots.AxesSubplot object at 0x7fc3e713c400>,\n",
       "        <matplotlib.axes._subplots.AxesSubplot object at 0x7fc3e70ee668>,\n",
       "        <matplotlib.axes._subplots.AxesSubplot object at 0x7fc3e71218d0>],\n",
       "       [<matplotlib.axes._subplots.AxesSubplot object at 0x7fc3e70d3b38>,\n",
       "        <matplotlib.axes._subplots.AxesSubplot object at 0x7fc3e7089d68>,\n",
       "        <matplotlib.axes._subplots.AxesSubplot object at 0x7fc3e7abbb00>]],\n",
       "      dtype=object)"
      ]
     },
     "execution_count": 3,
     "metadata": {},
     "output_type": "execute_result"
    },
    {
     "data": {
      "image/png": "[encoded data removed]",
      "text/plain": [
       "<Figure size 1080x1440 with 9 Axes>"
      ]
     },
     "metadata": {
      "needs_background": "light"
     },
     "output_type": "display_data"
    }
   ],
   "source": [
    "import matplotlib.pyplot as plt\n",
    "fig = plt.figure(figsize = (15,20))\n",
    "ax = fig.gca()\n",
    "attributes = ['attribute1', 'attribute2', 'attribute3',\n",
    "       'attribute4', 'attribute5', 'attribute6', 'attribute7', 'attribute8',\n",
    "       'attribute9'] \n",
    "\n",
    "device_df.hist(attributes, ax = ax)"
   ]
  },
  {
   "cell_type": "code",
   "execution_count": 4,
   "metadata": {},
   "outputs": [
    {
     "name": "stdout",
     "output_type": "stream",
     "text": [
      "failure mean  0.000851446656063746\n",
      "Failure mean for the 100 largest of attribute2: 0.025 \n",
      "Failure mean for the 100 largest of attribute3: 0.0 \n",
      "Failure mean for the 100 largest of attribute4: 0.025 \n",
      "Failure mean for the 100 largest of attribute7: 0.08 \n",
      "Failure mean for the 100 largest of attribute8: 0.08 \n",
      "Failure mean for the 100 largest of attribute9: 0.0 \n"
     ]
    }
   ],
   "source": [
    "print('failure mean ', device_df['failure'].mean())\n",
    "for atribute_name in   [ 'attribute2', 'attribute3',\n",
    "       'attribute4',  'attribute7', 'attribute8',\n",
    "       'attribute9'] :\n",
    "    \n",
    "    print('Failure mean for the 100 largest of {}: {} '.format( atribute_name, device_df.loc[device_df[atribute_name].nlargest(200).index]['failure'].mean() ))\n",
    "\n"
   ]
  },
  {
   "cell_type": "code",
   "execution_count": 5,
   "metadata": {},
   "outputs": [
    {
     "data": {
      "text/plain": [
       "[Text(0.5, 1.0, ' Distributiuon of the 200 largest  attribute2')]"
      ]
     },
     "execution_count": 5,
     "metadata": {},
     "output_type": "execute_result"
    },
    {
     "data": {
      "image/png": "[encoded data removed]",
      "text/plain": [
       "<Figure size 720x432 with 2 Axes>"
      ]
     },
     "metadata": {
      "needs_background": "light"
     },
     "output_type": "display_data"
    }
   ],
   "source": [
    "fig, axes = plt.subplots(nrows=1, ncols=2, figsize=(10, 6))    \n",
    "axes[0].hist(device_df['attribute9'].nlargest(200))\n",
    "axes.flat[0].set( title=' Distributiuon of the 200 largest  attribute9')\n",
    "\n",
    "axes[1].hist(device_df['attribute2'].nlargest(200))\n",
    "axes.flat[1].set( title=' Distributiuon of the 200 largest  attribute2')\n",
    "\n",
    "\n",
    "            "
   ]
  },
  {
   "cell_type": "markdown",
   "metadata": {},
   "source": [
    "### The outliers of the  attributes 4, 7and 8  are strongly corelated to the failure, and these values can mean that something is wrong with the device\n",
    "\n",
    "\n",
    "\n",
    "\n"
   ]
  },
  {
   "cell_type": "markdown",
   "metadata": {},
   "source": [
    "\n"
   ]
  },
  {
   "cell_type": "code",
   "execution_count": 6,
   "metadata": {},
   "outputs": [
    {
     "name": "stdout",
     "output_type": "stream",
     "text": [
      "Number of failure: 106   Number of  not failure: 124388 |rate 1173\n",
      "Number of devices :  1169\n",
      "Number of devices failure :  106\n",
      "Devices  with less than 10 samples \n",
      "W1F0PNA5    9\n",
      "Z1F1AG5N    9\n",
      "Z1F0M7QD    9\n",
      "S1F0QZXV    9\n",
      "S1F0TNYF    7\n",
      "Name: device, dtype: int64\n"
     ]
    },
    {
     "data": {
      "image/png": "[encoded data removed]",
      "text/plain": [
       "<Figure size 432x288 with 1 Axes>"
      ]
     },
     "metadata": {
      "needs_background": "light"
     },
     "output_type": "display_data"
    }
   ],
   "source": [
    "print('Number of failure: {}   Number of  not failure: {} |rate {:.0f}'.format(device_df[device_df['failure'] ==1 ].shape[0], device_df[device_df['failure'] ==0 ].shape[0], \n",
    "                                                                              (device_df[device_df['failure'] ==0 ].shape[0] / device_df[device_df['failure'] ==1 ].shape[0]  )  ))\n",
    "\n",
    "\n",
    "print('Number of devices : ', len(device_df.device.unique()))\n",
    "device_failure = device_df[device_df['failure'] ==1 ] \n",
    "print('Number of devices failure : ', len(device_failure.device.unique()))\n",
    "histdevice = device_df.device.value_counts()\n",
    "ax = histdevice.plot.hist(bins=12, alpha=0.5, title = \"Distribuition of number  samples per device \")\n",
    "\n",
    "\n",
    "print('Devices  with less than 10 samples ')\n",
    "print(histdevice[histdevice < 10].head())\n",
    "\n"
   ]
  },
  {
   "cell_type": "markdown",
   "metadata": {},
   "source": [
    "\n",
    "\n"
   ]
  },
  {
   "cell_type": "code",
   "execution_count": null,
   "metadata": {},
   "outputs": [],
   "source": []
  },
  {
   "cell_type": "code",
   "execution_count": 7,
   "metadata": {},
   "outputs": [
    {
     "name": "stderr",
     "output_type": "stream",
     "text": [
      "/home/leo/.local/lib/python3.6/site-packages/statsmodels/tools/_testing.py:19: FutureWarning: pandas.util.testing is deprecated. Use the functions in the public API at pandas.testing instead.\n",
      "  import pandas.util.testing as tm\n"
     ]
    },
    {
     "name": "stdout",
     "output_type": "stream",
     "text": [
      "Correlation Matrix\n"
     ]
    },
    {
     "data": {
      "image/png": "[encoded data removed]",
      "text/plain": [
       "<Figure size 576x576 with 2 Axes>"
      ]
     },
     "metadata": {
      "needs_background": "light"
     },
     "output_type": "display_data"
    }
   ],
   "source": [
    "import seaborn as sns\n",
    "plt.figure(figsize=(8,8))\n",
    "notascoora = device_df.corr()\n",
    "sns.heatmap(notascoora, annot=True, cmap=plt.cm.Reds)\n",
    "print('Correlation Matrix')\n",
    "plt.show()   \n"
   ]
  },
  {
   "cell_type": "code",
   "execution_count": 8,
   "metadata": {},
   "outputs": [
    {
     "data": {
      "text/html": [
       "<div>\n",
       "<style scoped>\n",
       "    .dataframe tbody tr th:only-of-type {\n",
       "        vertical-align: middle;\n",
       "    }\n",
       "\n",
       "    .dataframe tbody tr th {\n",
       "        vertical-align: top;\n",
       "    }\n",
       "\n",
       "    .dataframe thead th {\n",
       "        text-align: right;\n",
       "    }\n",
       "</style>\n",
       "<table border=\"1\" class=\"dataframe\">\n",
       "  <thead>\n",
       "    <tr style=\"text-align: right;\">\n",
       "      <th></th>\n",
       "      <th>date</th>\n",
       "      <th>device</th>\n",
       "      <th>failure</th>\n",
       "      <th>attribute1</th>\n",
       "      <th>attribute2</th>\n",
       "      <th>attribute3</th>\n",
       "      <th>attribute4</th>\n",
       "      <th>attribute5</th>\n",
       "      <th>attribute6</th>\n",
       "      <th>attribute7</th>\n",
       "      <th>attribute8</th>\n",
       "      <th>attribute9</th>\n",
       "    </tr>\n",
       "  </thead>\n",
       "  <tbody>\n",
       "  </tbody>\n",
       "</table>\n",
       "</div>"
      ],
      "text/plain": [
       "Empty DataFrame\n",
       "Columns: [date, device, failure, attribute1, attribute2, attribute3, attribute4, attribute5, attribute6, attribute7, attribute8, attribute9]\n",
       "Index: []"
      ]
     },
     "execution_count": 8,
     "metadata": {},
     "output_type": "execute_result"
    }
   ],
   "source": [
    "device_df[device_df['attribute7']  !=device_df['attribute8'] ]"
   ]
  },
  {
   "cell_type": "markdown",
   "metadata": {},
   "source": [
    "### Data explore conclusions\n",
    "   - The dataset is time series about failure of multiple devices. \n",
    "   - The two classes in the dataset failure and not failure is extremely unbalanced, for each failure there are 1173 not failure. \n",
    "   - The number of samples per device is incostant\n",
    "   - The values of the Attribute7  and attribute8 are the same. \n",
    "   - The outliers of the  attributes 4, 7 and 8  are strongly corelated to the failure, and these values could  indicatethat something is wrong with the device.\n",
    "  "
   ]
  },
  {
   "cell_type": "markdown",
   "metadata": {},
   "source": []
  },
  {
   "cell_type": "markdown",
   "metadata": {},
   "source": [
    "  \n",
    "  \n"
   ]
  },
  {
   "cell_type": "markdown",
   "metadata": {},
   "source": [
    "## Feature engineering\n",
    "\n",
    "\n",
    "### Lag features aproche \n",
    "\n",
    "The Lag feature is a classic technique for time series prediction problems. The simplest approach is add previous features (t-1), (t-2) .. to each sample in time (t).\n"
   ]
  },
  {
   "cell_type": "code",
   "execution_count": 9,
   "metadata": {},
   "outputs": [],
   "source": [
    "import warnings\n",
    "warnings.filterwarnings('ignore')\n",
    "\n",
    "import pandas as pd\n",
    "import numpy as np\n",
    "device_df =  pd.read_csv('device_failure.csv', encoding = \"ISO-8859-1\")\n",
    "\n",
    "# number of lags fetures in the windows\n",
    "number_lags = 7\n",
    "\n",
    "device_df[\"date\"] = pd.to_datetime(device_df[\"date\"])\n",
    "device_df[\"day_week\"] = device_df['date'].dt.dayofweek \n",
    "\n",
    "# since attribute8 = attribute7, one of them can be discarded\n",
    "device_df = device_df.drop(['attribute8'], axis=1)\n",
    "\n",
    "device_names = device_df.device.unique().tolist()"
   ]
  },
  {
   "cell_type": "code",
   "execution_count": null,
   "metadata": {},
   "outputs": [],
   "source": [
    "\n",
    "\n",
    "\n"
   ]
  },
  {
   "cell_type": "code",
   "execution_count": 10,
   "metadata": {},
   "outputs": [],
   "source": [
    "\n",
    "\n",
    "# add lgs features to each row to create a device's data set\n",
    "def get_device_dataste(device_name, device_df):\n",
    "    device_df =  device_df[device_df['device'] ==   device_name]\n",
    "   \n",
    "    column_names =['attribute1', 'attribute2', 'attribute3', 'attribute4', 'attribute5', 'attribute6', 'attribute7',  'attribute9']\n",
    "\n",
    "    for column_name in column_names:\n",
    "        for i in range(1, number_lags +1):\n",
    "            coluna_lag = column_name+'_'+ str((i) )\n",
    "            device_df[coluna_lag] = device_df[column_name].shift(i)\n",
    "\n",
    "\n",
    "    device_df['failure_f'] = device_df['failure'].shift(-1)\n",
    "    device_df.drop(device_df.tail(1).index,inplace=True)\n",
    "    \n",
    "    # discart the fists columns\n",
    "    if device_df.shape[0]  < number_lags +1 : \n",
    "        device_df  = device_df.tail(1)\n",
    "    else:\n",
    "        device_df  = device_df.tail( device_df.shape[0] - number_lags )\n",
    "    device_df.fillna(0)\n",
    "    device_df = device_df.drop(['date', 'device', 'failure'], axis=1)\n",
    "    return device_df\n",
    "\n",
    "\n",
    "\n",
    "device_data = get_device_dataste(device_names[0], device_df)\n",
    "for device_name in device_names[1:]:\n",
    "    data_temp = get_device_dataste(device_name, device_df)\n",
    "    device_data = pd.concat([device_data, data_temp])\n",
    "    \n",
    "    \n",
    "    "
   ]
  },
  {
   "cell_type": "code",
   "execution_count": null,
   "metadata": {},
   "outputs": [],
   "source": []
  },
  {
   "cell_type": "code",
   "execution_count": 11,
   "metadata": {},
   "outputs": [
    {
     "name": "stdout",
     "output_type": "stream",
     "text": [
      "Failure  coorelation of features with no lag \n"
     ]
    },
    {
     "data": {
      "text/html": [
       "<div>\n",
       "<style scoped>\n",
       "    .dataframe tbody tr th:only-of-type {\n",
       "        vertical-align: middle;\n",
       "    }\n",
       "\n",
       "    .dataframe tbody tr th {\n",
       "        vertical-align: top;\n",
       "    }\n",
       "\n",
       "    .dataframe thead th {\n",
       "        text-align: right;\n",
       "    }\n",
       "</style>\n",
       "<table border=\"1\" class=\"dataframe\">\n",
       "  <thead>\n",
       "    <tr style=\"text-align: right;\">\n",
       "      <th></th>\n",
       "      <th>failure_f</th>\n",
       "      <th>attribute1</th>\n",
       "      <th>attribute2</th>\n",
       "      <th>attribute3</th>\n",
       "      <th>attribute4</th>\n",
       "      <th>attribute5</th>\n",
       "      <th>attribute6</th>\n",
       "      <th>attribute7</th>\n",
       "      <th>attribute9</th>\n",
       "    </tr>\n",
       "  </thead>\n",
       "  <tbody>\n",
       "    <tr>\n",
       "      <th>failure_f</th>\n",
       "      <td>1.0</td>\n",
       "      <td>0.001272</td>\n",
       "      <td>0.047923</td>\n",
       "      <td>-0.001178</td>\n",
       "      <td>0.067709</td>\n",
       "      <td>0.001946</td>\n",
       "      <td>-0.001089</td>\n",
       "      <td>0.114084</td>\n",
       "      <td>0.002529</td>\n",
       "    </tr>\n",
       "  </tbody>\n",
       "</table>\n",
       "</div>"
      ],
      "text/plain": [
       "           failure_f  attribute1  attribute2  attribute3  attribute4  \\\n",
       "failure_f        1.0    0.001272    0.047923   -0.001178    0.067709   \n",
       "\n",
       "           attribute5  attribute6  attribute7  attribute9  \n",
       "failure_f    0.001946   -0.001089    0.114084    0.002529  "
      ]
     },
     "execution_count": 11,
     "metadata": {},
     "output_type": "execute_result"
    }
   ],
   "source": [
    "#  Let's check the correlation in \n",
    "import seaborn as sns\n",
    "import matplotlib.pyplot as plt\n",
    "\n",
    "def print_correlation(lag):\n",
    "    column_names =[ 'failure_f']\n",
    "    for i in range(1, 10):\n",
    "        if i != 8 :\n",
    "            column_name = 'attribute' + str(i)\n",
    "            if lag > 0 :\n",
    "                column_name = column_name + '_' + str(lag)\n",
    "            column_names.append(column_name)  \n",
    "        \n",
    "    device_data_one_lag =  device_data[column_names]\n",
    "    ## calcula matriz de correlacao \n",
    "\n",
    "    \n",
    "    coora = device_data_one_lag.corr()\n",
    "    return coora\n",
    "\n",
    "    \n",
    "    \n",
    "    \n",
    "coora= print_correlation(0)\n",
    "print(\"Failure  coorelation of features with no lag \")\n",
    "coora.head(1)\n"
   ]
  },
  {
   "cell_type": "code",
   "execution_count": 12,
   "metadata": {},
   "outputs": [
    {
     "name": "stdout",
     "output_type": "stream",
     "text": [
      "Failure  coorelation of features with 3  lags\n"
     ]
    },
    {
     "data": {
      "text/html": [
       "<div>\n",
       "<style scoped>\n",
       "    .dataframe tbody tr th:only-of-type {\n",
       "        vertical-align: middle;\n",
       "    }\n",
       "\n",
       "    .dataframe tbody tr th {\n",
       "        vertical-align: top;\n",
       "    }\n",
       "\n",
       "    .dataframe thead th {\n",
       "        text-align: right;\n",
       "    }\n",
       "</style>\n",
       "<table border=\"1\" class=\"dataframe\">\n",
       "  <thead>\n",
       "    <tr style=\"text-align: right;\">\n",
       "      <th></th>\n",
       "      <th>failure_f</th>\n",
       "      <th>attribute1_3</th>\n",
       "      <th>attribute2_3</th>\n",
       "      <th>attribute3_3</th>\n",
       "      <th>attribute4_3</th>\n",
       "      <th>attribute5_3</th>\n",
       "      <th>attribute6_3</th>\n",
       "      <th>attribute7_3</th>\n",
       "      <th>attribute9_3</th>\n",
       "    </tr>\n",
       "  </thead>\n",
       "  <tbody>\n",
       "    <tr>\n",
       "      <th>failure_f</th>\n",
       "      <td>1.0</td>\n",
       "      <td>-0.001459</td>\n",
       "      <td>0.036124</td>\n",
       "      <td>-0.001311</td>\n",
       "      <td>0.055209</td>\n",
       "      <td>0.001846</td>\n",
       "      <td>-0.001152</td>\n",
       "      <td>0.050769</td>\n",
       "      <td>0.002578</td>\n",
       "    </tr>\n",
       "  </tbody>\n",
       "</table>\n",
       "</div>"
      ],
      "text/plain": [
       "           failure_f  attribute1_3  attribute2_3  attribute3_3  attribute4_3  \\\n",
       "failure_f        1.0     -0.001459      0.036124     -0.001311      0.055209   \n",
       "\n",
       "           attribute5_3  attribute6_3  attribute7_3  attribute9_3  \n",
       "failure_f      0.001846     -0.001152      0.050769      0.002578  "
      ]
     },
     "execution_count": 12,
     "metadata": {},
     "output_type": "execute_result"
    }
   ],
   "source": [
    "coora= print_correlation(3)\n",
    "print(\"Failure  coorelation of features with 3  lags\")\n",
    "coora.head(1)"
   ]
  },
  {
   "cell_type": "code",
   "execution_count": 13,
   "metadata": {},
   "outputs": [
    {
     "name": "stdout",
     "output_type": "stream",
     "text": [
      "(106, 66)\n",
      "(116193, 66)\n",
      " Unbalance data rate 1096.16  !!\n"
     ]
    },
    {
     "data": {
      "text/plain": [
       "336"
      ]
     },
     "execution_count": 13,
     "metadata": {},
     "output_type": "execute_result"
    }
   ],
   "source": [
    "split_rate =0.2\n",
    "device_data_f = device_data[device_data['failure_f'] ==1]  \n",
    "print(device_data_f.shape)\n",
    "\n",
    "device_data__not_f = device_data[device_data['failure_f'] ==0]  \n",
    "print(device_data__not_f.shape)\n",
    "\n",
    "print(' Unbalance data rate {:.2f}  !!'.format( device_data__not_f.shape[0]/ device_data_f.shape[0]))\n",
    "\n",
    "from sklearn.model_selection import train_test_split\n",
    "train_failure, test_failure = train_test_split(device_data_f, test_size=split_rate)\n",
    "train_not_failure, test_not_failure = train_test_split(device_data__not_f, test_size=split_rate)\n",
    "\n",
    "\n",
    "failure_train_size =  train_failure.shape[0] * 4\n",
    "failure_train_size"
   ]
  },
  {
   "cell_type": "code",
   "execution_count": null,
   "metadata": {},
   "outputs": [],
   "source": []
  },
  {
   "cell_type": "markdown",
   "metadata": {},
   "source": [
    "### Resampling\n",
    " A widely adopted technique for dealing with highly unbalanced datasets is called resampling. It consists of removing samples from the majority class (under-sampling) and / or adding more examples from the minority class (over-sampling). \n",
    "Since, the rate of imbalance in our dataset is hight   we adopted the two techniques together. Under-sampling the class of 'no failure'  and over-sampling the 'failure' class\n",
    "As there are few points of failure, we adopt an integer as over-sampling rate in order to use the same weight for each point of failure during the training.\n"
   ]
  },
  {
   "cell_type": "code",
   "execution_count": 14,
   "metadata": {},
   "outputs": [
    {
     "name": "stdout",
     "output_type": "stream",
     "text": [
      "(672, 66)\n",
      "(23261, 66)\n",
      "Nuber of falures in the dataset test:  22\n"
     ]
    }
   ],
   "source": [
    "train_not_failure = train_not_failure.sample(n=failure_train_size, random_state=1)\n",
    "train_failure = train_failure.sample(n=failure_train_size, random_state=1, replace=True)\n",
    "\n",
    "final_train = pd.concat([train_failure, train_not_failure])\n",
    "final_test = pd.concat([test_failure, test_not_failure])\n",
    "print(final_train.shape)\n",
    "print(final_test.shape)\n",
    "print(\"Nuber of falures in the dataset test: \",  test_failure.shape[0])\n"
   ]
  },
  {
   "cell_type": "markdown",
   "metadata": {},
   "source": [
    "## Resolvers \n",
    "\n",
    "### Classifier   candidates \n",
    "    1. Linerar Algorithms  ->  SVD is efficient and Versatile.  \n",
    "    2. Neuron network - LSTM is a good candidate to solve time series problems, whenever I didn't  achieve goods results using this technique, probability because the dataset has few points of failure.\n",
    "    3. Decision Tree - could be too simple for the problem. *\n",
    "    4.  Ensemble methods appears to be more aproprieted,  Randow florest and GradientBoosting are good options.   \n",
    "    \n",
    "* in order  to keep the document concise,the LSTM code is not in this notebook"
   ]
  },
  {
   "cell_type": "code",
   "execution_count": null,
   "metadata": {},
   "outputs": [],
   "source": []
  },
  {
   "cell_type": "code",
   "execution_count": 15,
   "metadata": {},
   "outputs": [],
   "source": [
    "## useful functions\n",
    "\n",
    "import seaborn as sn\n",
    "import pandas as pd\n",
    "import matplotlib.pyplot as plt\n",
    "from sklearn.metrics import confusion_matrix\n",
    "from sklearn.metrics import accuracy_score\n",
    "from sklearn.metrics import classification_report\n",
    "from sklearn.metrics import f1_score\n",
    "\n",
    "\n",
    "#transfom the pandasFrame to x, y for train\n",
    "def getDataset(df):\n",
    "    df= df.dropna()\n",
    "    label = df['failure_f'].values \n",
    "    X = df.drop(['failure_f'], axis = 1)\n",
    "    Xmatrix = X.values\n",
    "    return Xmatrix, label\n",
    "\n",
    "x_train, label_train = getDataset(final_train)\n",
    "x_test,  label_test = getDataset(final_test)\n",
    "\n",
    "\n",
    "    \n",
    "def printAcuracyDetail(classificador, x, true_label ):\n",
    "    predicted_label = classificador.predict(x) \n",
    "    confu = confusion_matrix(true_label, predicted_label)\n",
    "    TP = confu[1][1]\n",
    "    TN = confu[0][0]\n",
    "    FP = confu[0][1]\n",
    "    FN = confu[1][0]\n",
    "    \n",
    "\n",
    "    accuracy =  accuracy_score(true_label, predicted_label)\n",
    "    falures  = np.count_nonzero(true_label == 1)\n",
    "    not_falures  = np.count_nonzero(true_label == 0)\n",
    "    # https://en.wikipedia.org/wiki/Precision_and_recall   \n",
    "    # true positive rate = TP / (TP  + FN) \n",
    "    # False positive rate = FP / (FP  + TN) \n",
    "    # False Negative Rate = FN ( FN + TP)\n",
    "    # True Negative Rate = TN/ (TN +FP )\n",
    "    TP_rate = TP / (TP  + FN) \n",
    "    FP_rate = FP / (FP  + TN) \n",
    "    FN_rate = FN / (FN +TP )\n",
    "    TN_rate = TN / ( TN +FP )\n",
    "    \n",
    "    print('         -Total acuracy {:.3f}%'.format( accuracy* 100 ))\n",
    "    print('         -True  positives  {} | True positive rate   {:.3f}%'.format(TP, TP_rate * 100  ))\n",
    "    print('         -False positives  {} | False positive rate  {:.3f}%'.format(FP, FP_rate * 100 ))\n",
    "    print('         -True  negatives  {} | True negatives rate  {:.3f}% '.format(TN, TN_rate* 100 ))\n",
    "    print('         -False negatives  {} | False negatives rate {:.3f}% '.format(FN, FN_rate* 100 ))\n",
    "    \n",
    "\n",
    "def getF1Acuracy(classificador, x, y_true ):\n",
    "    y_pret_treino = classificador.predict(x) \n",
    "    f1_s = f1_score(y_true, y_pret_treino, average='macro')  \n",
    "    return f1_s\n",
    "\n",
    "\n",
    "\n"
   ]
  },
  {
   "cell_type": "markdown",
   "metadata": {},
   "source": []
  },
  {
   "cell_type": "code",
   "execution_count": 16,
   "metadata": {},
   "outputs": [
    {
     "name": "stdout",
     "output_type": "stream",
     "text": [
      "     train Acuracy 0.69 testes Acuracy 0.68   \n",
      "     train F1-Score 0.69 teste F1-Score 0.41 \n",
      "\n",
      "     Results for the train dataset  \n",
      "         -Total acuracy 69.008%\n",
      "         -True  positives  217 | True positive rate   67.812%\n",
      "         -False positives  100 | False positive rate  29.851%\n",
      "         -True  negatives  235 | True negatives rate  70.149% \n",
      "         -False negatives  103 | False negatives rate 32.188% \n",
      "\n",
      "     Results for the test dataset  \n",
      "         -Total acuracy 68.331%\n",
      "         -True  positives  8 | True positive rate   36.364%\n",
      "         -False positives  7329 | False positive rate  31.638%\n",
      "         -True  negatives  15836 | True negatives rate  68.362% \n",
      "         -False negatives  14 | False negatives rate 63.636% \n"
     ]
    }
   ],
   "source": [
    "from sklearn import svm\n",
    "from sklearn.pipeline import make_pipeline\n",
    "from sklearn.preprocessing import StandardScaler\n",
    "from sklearn.svm import NuSVC\n",
    "\n",
    "#svm_classificlf = svm.SVC()\n",
    "svm_classificlf = svm.SVC(kernel='rbf')\n",
    "#svm_classificlf = make_pipeline(StandardScaler(), NuSVC())\n",
    "\n",
    "svm_classificlf.fit(x_train, label_train)\n",
    "\n",
    "trainf1=  getF1Acuracy( svm_classificlf, x_train, label_train)\n",
    "\n",
    "\n",
    "\n",
    "print(\"     train Acuracy {:.2f} testes Acuracy {:.2f}   \".format(svm_classificlf.score(x_train, label_train) , svm_classificlf.score(x_test, label_test)) )\n",
    "print(\"     train F1-Score {:.2f} teste F1-Score {:.2f} \".format(getF1Acuracy( svm_classificlf, x_train, label_train) , getF1Acuracy( svm_classificlf, x_test, label_test)) )\n",
    "\n",
    "    \n",
    "\n",
    "print(\"\\n     Results for the train dataset  \")\n",
    "printAcuracyDetail(svm_classificlf,x_train , label_train )\n",
    "print(\"\\n     Results for the test dataset  \")\n",
    "printAcuracyDetail(svm_classificlf,x_test , label_test )\n",
    "\n",
    "\n",
    "\n"
   ]
  },
  {
   "cell_type": "code",
   "execution_count": 17,
   "metadata": {},
   "outputs": [
    {
     "name": "stdout",
     "output_type": "stream",
     "text": [
      "     train Acuracy 0.98 testes Acuracy 0.93   \n",
      "     train F1-Score 0.98 teste F1-Score 0.49 \n",
      "best_params_ {'learning_rate': 0.1, 'max_depth': 6, 'n_estimators': 15, 'subsample': 0.4}\n",
      "\n",
      "     Results for the train dataset  \n",
      "         -Total acuracy 98.015%\n",
      "         -True  positives  310 | True positive rate   96.875%\n",
      "         -False positives  3 | False positive rate  0.896%\n",
      "         -True  negatives  332 | True negatives rate  99.104% \n",
      "         -False negatives  10 | False negatives rate 3.125% \n",
      "\n",
      "     Results for the test dataset  \n",
      "         -Total acuracy 93.022%\n",
      "         -True  positives  17 | True positive rate   77.273%\n",
      "         -False positives  1613 | False positive rate  6.963%\n",
      "         -True  negatives  21552 | True negatives rate  93.037% \n",
      "         -False negatives  5 | False negatives rate 22.727% \n"
     ]
    }
   ],
   "source": [
    "from sklearn import ensemble\n",
    "from sklearn import datasets\n",
    "from sklearn.utils import shuffle\n",
    "from sklearn.metrics import mean_squared_error\n",
    "from sklearn.ensemble import GradientBoostingClassifier\n",
    "from sklearn.model_selection import GridSearchCV\n",
    "from sklearn.model_selection import train_test_split\n",
    "# funcap para calcula f1-dcore\n",
    "from sklearn.metrics import f1_score\n",
    "\n",
    "def boostingGridResolve(X_train, y_train, X_test, y_test):\n",
    "    \n",
    "    parameters = {\n",
    "        \"learning_rate\": [ 0.05, 0.1],\n",
    "            \"max_depth\":[ 2, 4, 6],\n",
    "        \"subsample\":[0.4 ],\n",
    "        \"n_estimators\":[  10, 15]\n",
    "    }\n",
    "    \n",
    "    clf = GridSearchCV(GradientBoostingClassifier(), parameters, cv=4, n_jobs=-1)\n",
    "    clf.fit(X_train, y_train)\n",
    "    trainf1=  getF1Acuracy( clf, X_train, y_train)\n",
    "    trainf1_teste=  getF1Acuracy( clf, X_test, y_test)\n",
    "    \n",
    "    print(\"     train Acuracy {:.2f} testes Acuracy {:.2f}   \".format(clf.score(X_train, y_train) , clf.score(X_test, y_test)) )\n",
    "    print(\"     train F1-Score {:.2f} teste F1-Score {:.2f} \".format(getF1Acuracy( clf, X_train, y_train) , getF1Acuracy( clf, X_test, y_test)) )\n",
    "    print(\"best_params_\",   clf.best_params_)\n",
    "    \n",
    "    return clf , trainf1\n",
    "\n",
    "\n",
    "\n",
    "GB_Classifier ,trainf1 =  boostingGridResolve(x_train, label_train,x_test, label_test  )\n",
    "\n",
    "print(\"\\n     Results for the train dataset  \")\n",
    "printAcuracyDetail(GB_Classifier,x_train , label_train )\n",
    "print(\"\\n     Results for the test dataset  \")\n",
    "printAcuracyDetail(GB_Classifier,x_test , label_test )\n",
    "\n",
    "\n"
   ]
  },
  {
   "cell_type": "markdown",
   "metadata": {},
   "source": [
    "-Total acuracy 91.134%\n",
    "         -True  positives  17 | True positive rate   80.952%\n",
    "         -False positives  2052 | False positive rate  8.857%\n",
    "         -True  negatives  21117 | True negatives rate  91.143% \n",
    "         -False negatives  4 | False negatives rate 19.048% \n",
    "100, "
   ]
  },
  {
   "cell_type": "code",
   "execution_count": 24,
   "metadata": {},
   "outputs": [
    {
     "name": "stdout",
     "output_type": "stream",
     "text": [
      "Fitting 5 folds for each of 16 candidates, totalling 80 fits\n"
     ]
    },
    {
     "name": "stderr",
     "output_type": "stream",
     "text": [
      "[Parallel(n_jobs=-1)]: Using backend LokyBackend with 8 concurrent workers.\n",
      "[Parallel(n_jobs=-1)]: Done  34 tasks      | elapsed:    1.3s\n",
      "[Parallel(n_jobs=-1)]: Done  80 out of  80 | elapsed:    2.8s finished\n"
     ]
    },
    {
     "name": "stdout",
     "output_type": "stream",
     "text": [
      "     train Acuracy 0.90 testes Acuracy 0.91   \n",
      "     train F1-Score 0.90 teste F1-Score 0.49 \n",
      "best_params_ {'max_depth': 10, 'min_samples_leaf': 1, 'min_samples_split': 0.1, 'n_estimators': 150}\n",
      "\n",
      "     Results for the train dataset  \n",
      "         -Total acuracy 89.618%\n",
      "         -True  positives  280 | True positive rate   87.500%\n",
      "         -False positives  28 | False positive rate  8.358%\n",
      "         -True  negatives  307 | True negatives rate  91.642% \n",
      "         -False negatives  40 | False negatives rate 12.500% \n",
      "\n",
      "     Results for the test dataset  \n",
      "         -Total acuracy 91.120%\n",
      "         -True  positives  18 | True positive rate   81.818%\n",
      "         -False positives  2055 | False positive rate  8.871%\n",
      "         -True  negatives  21110 | True negatives rate  91.129% \n",
      "         -False negatives  4 | False negatives rate 18.182% \n"
     ]
    }
   ],
   "source": [
    "\n",
    "from sklearn import ensemble\n",
    "from sklearn import datasets\n",
    "from sklearn.utils import shuffle\n",
    "from sklearn.metrics import mean_squared_error\n",
    "from sklearn.ensemble import RandomForestRegressor\n",
    "\n",
    "def randonForestResolve(X_train, y_train, X_test, y_test ):\n",
    "    from sklearn.model_selection import GridSearchCV\n",
    "    \n",
    "    \n",
    "    # Set the parameters by cross-validation\n",
    "    parameters = {'n_estimators': [   100, 150], \n",
    "                  'max_depth': [ 5, 10],\n",
    "                  'min_samples_split': [0.1, 0.4],\n",
    "                  'min_samples_leaf': [1, 3]\n",
    "                 }\n",
    "\n",
    "    \n",
    "    clf = GridSearchCV(ensemble.RandomForestClassifier(), parameters, cv=5,  n_jobs=-1, verbose=1)\n",
    "    \n",
    "    \n",
    "    clf.fit(X_train, y_train)\n",
    "    \n",
    "    \n",
    "    print(\"     train Acuracy {:.2f} testes Acuracy {:.2f}   \".format(clf.score(X_train, y_train) , clf.score(X_test, y_test)) )\n",
    "    print(\"     train F1-Score {:.2f} teste F1-Score {:.2f} \".format(getF1Acuracy( clf, X_train, y_train) , getF1Acuracy( clf, X_test, y_test)) )\n",
    "    print(\"best_params_\",   clf.best_params_)\n",
    "    \n",
    "    \n",
    "    \n",
    "    return clf\n",
    "\n",
    "rf_classificatior =  randonForestResolve(x_train, label_train,x_test, label_test  )\n",
    "print(\"\\n     Results for the train dataset  \")\n",
    "printAcuracyDetail(rf_classificatior,x_train , label_train )\n",
    "print(\"\\n     Results for the test dataset  \")\n",
    "printAcuracyDetail(rf_classificatior,x_test , label_test )\n",
    "\n",
    "\n",
    "\n"
   ]
  },
  {
   "cell_type": "markdown",
   "metadata": {},
   "source": []
  },
  {
   "cell_type": "code",
   "execution_count": 19,
   "metadata": {},
   "outputs": [
    {
     "data": {
      "text/plain": [
       "[Text(0.5, 0, 'Features lag (days)'),\n",
       " Text(0.5, 1.0, 'eatures importance of lag possition')]"
      ]
     },
     "execution_count": 19,
     "metadata": {},
     "output_type": "execute_result"
    },
    {
     "data": {
      "image/png": "[encoded data removed]",
      "text/plain": [
       "<Figure size 1080x432 with 2 Axes>"
      ]
     },
     "metadata": {
      "needs_background": "light"
     },
     "output_type": "display_data"
    }
   ],
   "source": [
    "# get the importance of the featureregarding all lags \n",
    "\n",
    "basecolumns = ['attribute1', 'attribute2', 'attribute3', 'attribute4', 'attribute5',  'attribute6', 'attribute7',  'attribute9']\n",
    "colunmsList = device_data_f.columns.tolist()\n",
    "rf_classificatior.best_estimator_.feature_importances_\n",
    "\n",
    "def getColum_importance(base_feature):\n",
    "    indexes = [colunmsList.index(base_feature)]; \n",
    "    column_importances = rf_classificatior.best_estimator_.feature_importances_[colunmsList.index(base_feature)]\n",
    "    for i in range (1, number_lags):\n",
    "        column_importances += rf_classificatior.best_estimator_.feature_importances_[colunmsList.index(base_feature + '_' + str(i))]\n",
    "        \n",
    "    return column_importances\n",
    "\n",
    "columns_importance = []\n",
    "columns_importance.append( rf_classificatior.best_estimator_.feature_importances_[colunmsList.index('day_week')])\n",
    "\n",
    "for basecolumn in basecolumns:\n",
    "    columns_importance.append( getColum_importance(basecolumn))\n",
    "    \n",
    "\n",
    "# get the importance of all fature regaring a especific lag\n",
    "\n",
    "basecolumns = ['attribute1', 'attribute2', 'attribute3', 'attribute4', 'attribute5',  'attribute6', 'attribute7',  'attribute9']\n",
    "colunmsList = device_data_f.columns.tolist()\n",
    "rf_classificatior.best_estimator_.feature_importances_\n",
    "\n",
    "def getlag_importance(lag):\n",
    "    if lag > 0 :\n",
    "        suffix = '_' + str(lag )\n",
    "    else:\n",
    "        suffix =''\n",
    "    \n",
    "    lag_importance =  0\n",
    "    for basecolumn in basecolumns: \n",
    "        lag_importance += rf_classificatior.best_estimator_.feature_importances_[colunmsList.index(basecolumn + suffix)]\n",
    "        \n",
    "\n",
    "    return lag_importance\n",
    "\n",
    "\n",
    "lags_importance = []\n",
    "for lag in range(0, number_lags):\n",
    "    lags_importance.append( getlag_importance(lag))\n",
    "\n",
    "\n",
    "    \n",
    "fig, axes = plt.subplots(nrows=1, ncols=2, figsize=(15, 6))    \n",
    "axes[0].bar(['day_week', 'Atr.1','Atr.2','Atr.3','Atr.4','Atr.5','Atr.6','Atr.7','Atr.9'] , columns_importance)\n",
    "axes.flat[0].set(xlabel='attribute', title='Feature importance')\n",
    "\n",
    "axes[1].bar(range(0,number_lags), lags_importance)\n",
    "axes.flat[1].set(xlabel='Features lag (days)', title='eatures importance of lag possition')\n",
    "\n",
    "\n",
    "\n"
   ]
  },
  {
   "cell_type": "code",
   "execution_count": null,
   "metadata": {},
   "outputs": [],
   "source": [
    "\n",
    "\n"
   ]
  },
  {
   "cell_type": "code",
   "execution_count": null,
   "metadata": {},
   "outputs": [],
   "source": []
  },
  {
   "cell_type": "markdown",
   "metadata": {},
   "source": [
    "# Results\n",
    "##  The folowing table compares  the metrics  of the The GradientBoosting and RandomForest Algorithms for the test dataset\n",
    "<br>\n",
    "<table style=\"width:70%\">\n",
    "    \n",
    "  <tr>\n",
    "      <td> </td>\n",
    "      <td><strong><font size=\"3\" color=\"blue\">suporte vector machine</font> </strong></td>\n",
    "      <td><strong><font size=\"3\" color=\"blue\">GradientBoosting</font> </strong></td>\n",
    "      <td><strong><font size=\"3\" color=\"blue\">RandomForest</font>  </strong></td>\n",
    "  </tr>\n",
    "  <tr>\n",
    "      <td><strong>Acuracy  </strong>  </td>\n",
    "      <td><strong>68%</strong></td>\n",
    "      <td><strong>93%</strong></td>\n",
    "      <td><strong>91% </strong> </td>\n",
    "  </tr>\n",
    "  <tr>\n",
    "      <td><strong>True positive rate </strong>  </td>\n",
    "      <td><strong>36%  </strong></td>\n",
    "      <td><strong>77% </strong></td>\n",
    "      <td><strong>82% </strong></td>\n",
    "  </tr>\n",
    "    <tr>\n",
    "      <td><strong>False positive rate </strong>  </td>\n",
    "      <td><strong> 32 % </strong></td>\n",
    "      <td><strong>6.9 %</strong></td>\n",
    "       <td><strong>8.8 %</strong></td>\n",
    "  </tr>\n",
    "  <tr>\n",
    "      <td><strong>False negative rate </strong>  </td>\n",
    "      <td><strong>64% </strong></td>\n",
    "      <td><strong>22.7% </strong></td>\n",
    "      <td><strong>18.2% </strong></td>\n",
    "  </tr>\n",
    "</table>\n",
    "\n",
    "\n",
    "\n",
    " "
   ]
  },
  {
   "cell_type": "markdown",
   "metadata": {},
   "source": [
    "# Conclusions\n",
    "\n",
    "- The  data set is extremely unbalanced, with incostant number of samples per device and few samples of failure.\n",
    "- The LSTM approche didn't achived good results.\n",
    "- In order to use shallow classifiers two feature engineering have been aplyed: lag features and resampling . \n",
    "- Sinse the dataset has few samples of failures (22  in test  dataset) and the split process is randomic, the accuracy has a variation of 10% from one training to another\n",
    "- The results show that GradientBoosting performed similarly to RandonForest, with a small advantage for RandonForest which is more stable and presents better results for the test dataset. Below the final results achieved by the randonForestResolve model:\n",
    "   - Acuracy   91 %\n",
    "   - True positives rate   82%\n",
    "   - False positives rate  8.8%\n",
    "   - False negatives rate  18.2%\n",
    "\n",
    "\n"
   ]
  },
  {
   "cell_type": "markdown",
   "metadata": {},
   "source": [
    "\n"
   ]
  },
  {
   "cell_type": "markdown",
   "metadata": {},
   "source": []
  },
  {
   "cell_type": "code",
   "execution_count": null,
   "metadata": {},
   "outputs": [],
   "source": []
  }
 ],
 "metadata": {
  "environment": {
   "name": "pytorch-gpu.1-4.m46",
   "type": "gcloud",
   "uri": "gcr.io/deeplearning-platform-release/pytorch-gpu.1-4:m46"
  },
  "kernelspec": {
   "display_name": "Python 3",
   "language": "python",
   "name": "python3"
  },
  "language_info": {
   "codemirror_mode": {
    "name": "ipython",
    "version": 3
   },
   "file_extension": ".py",
   "mimetype": "text/x-python",
   "name": "python",
   "nbconvert_exporter": "python",
   "pygments_lexer": "ipython3",
   "version": "3.6.9"
  }
 },
 "nbformat": 4,
 "nbformat_minor": 4
}
