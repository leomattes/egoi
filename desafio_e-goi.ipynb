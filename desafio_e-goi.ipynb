{
 "cells": [
  {
   "cell_type": "markdown",
   "metadata": {},
   "source": [
    "# Desafio Prático da e-Goi \n",
    "\n",
    "     Este notebook faz parte do desafio prático relativo à 2a fase de recrutamento da vaga Machine Learning Engineer da e-Goi do canditado Leonardo Mattes, sendo composto pelos seguintes itens:\n",
    "     \n",
    "     1. Descrição do problema \n",
    "     2. Análise do dataset e Feature Engineering \n",
    "     3. Criação e avaliação de modelos de previsão\n",
    "     4. Testes de serialização do modelo e do codificador \"one hot\" \n"
   ]
  },
  {
   "cell_type": "markdown",
   "metadata": {},
   "source": [
    "\n",
    "\n",
    "# 1. Descriçao \n",
    "    \n",
    "\n",
    "  O dataset utilizado é composto por 20 atributos (numéricos e categóricos). A label (1 ou 2) encontra-se na\n",
    "última coluna e  foi disponibilizado no seguinte  URL:\n",
    "         https://drive.google.com/open?id=1TLTuZ-Zc0Mcl16aYLdHqVKHneXmCdR5t\n",
    "         \n",
    "  O objetivo é a criação de um modelo de previsão a ser disponibilizado em uma REST API.\n",
    "  \n",
    " \n",
    " **Obs: O dataset disponibilizado possuía duas colunas com label 'C5' que continham valores distintos.Para facilitar a interpretação, os nomes das colunas foram substituídos tentando manter a lógica de nomeclatura inicial. O uso do novo cabeçalho de colunas é fundamental para a realização dos testes.\n",
    " \n",
    " "
   ]
  },
  {
   "cell_type": "markdown",
   "metadata": {},
   "source": [
    "# 2. Análise do dataset e Feature Engineering"
   ]
  },
  {
   "cell_type": "code",
   "execution_count": 18,
   "metadata": {},
   "outputs": [],
   "source": [
    "colunas = ['C1','N1','C2','C3','N2','C4','C5','N3','C6','C7','N4','C8','N5','C9','C10','N6','C11','N7','C12','C13','LABEL']\n"
   ]
  },
  {
   "cell_type": "code",
   "execution_count": 19,
   "metadata": {},
   "outputs": [
    {
     "data": {
      "text/html": [
       "<div>\n",
       "<style scoped>\n",
       "    .dataframe tbody tr th:only-of-type {\n",
       "        vertical-align: middle;\n",
       "    }\n",
       "\n",
       "    .dataframe tbody tr th {\n",
       "        vertical-align: top;\n",
       "    }\n",
       "\n",
       "    .dataframe thead th {\n",
       "        text-align: right;\n",
       "    }\n",
       "</style>\n",
       "<table border=\"1\" class=\"dataframe\">\n",
       "  <thead>\n",
       "    <tr style=\"text-align: right;\">\n",
       "      <th></th>\n",
       "      <th>C1</th>\n",
       "      <th>N1</th>\n",
       "      <th>C2</th>\n",
       "      <th>C3</th>\n",
       "      <th>N2</th>\n",
       "      <th>C4</th>\n",
       "      <th>C5</th>\n",
       "      <th>N3</th>\n",
       "      <th>C6</th>\n",
       "      <th>C7</th>\n",
       "      <th>...</th>\n",
       "      <th>C8</th>\n",
       "      <th>N5</th>\n",
       "      <th>C9</th>\n",
       "      <th>C10</th>\n",
       "      <th>N6</th>\n",
       "      <th>C11</th>\n",
       "      <th>N7</th>\n",
       "      <th>C12</th>\n",
       "      <th>C13</th>\n",
       "      <th>LABEL</th>\n",
       "    </tr>\n",
       "  </thead>\n",
       "  <tbody>\n",
       "    <tr>\n",
       "      <th>0</th>\n",
       "      <td>Z11</td>\n",
       "      <td>6</td>\n",
       "      <td>Z34</td>\n",
       "      <td>Z43</td>\n",
       "      <td>1169</td>\n",
       "      <td>Z65</td>\n",
       "      <td>Z75</td>\n",
       "      <td>4</td>\n",
       "      <td>Z93</td>\n",
       "      <td>Z101</td>\n",
       "      <td>...</td>\n",
       "      <td>Z121</td>\n",
       "      <td>67</td>\n",
       "      <td>Z143</td>\n",
       "      <td>Z152</td>\n",
       "      <td>2</td>\n",
       "      <td>Z173</td>\n",
       "      <td>1</td>\n",
       "      <td>Z192</td>\n",
       "      <td>Z201</td>\n",
       "      <td>1</td>\n",
       "    </tr>\n",
       "    <tr>\n",
       "      <th>1</th>\n",
       "      <td>Z12</td>\n",
       "      <td>48</td>\n",
       "      <td>Z32</td>\n",
       "      <td>Z43</td>\n",
       "      <td>5951</td>\n",
       "      <td>Z61</td>\n",
       "      <td>Z73</td>\n",
       "      <td>2</td>\n",
       "      <td>Z92</td>\n",
       "      <td>Z101</td>\n",
       "      <td>...</td>\n",
       "      <td>Z121</td>\n",
       "      <td>22</td>\n",
       "      <td>Z143</td>\n",
       "      <td>Z152</td>\n",
       "      <td>1</td>\n",
       "      <td>Z173</td>\n",
       "      <td>1</td>\n",
       "      <td>Z191</td>\n",
       "      <td>Z201</td>\n",
       "      <td>2</td>\n",
       "    </tr>\n",
       "    <tr>\n",
       "      <th>2</th>\n",
       "      <td>Z14</td>\n",
       "      <td>12</td>\n",
       "      <td>Z34</td>\n",
       "      <td>Z46</td>\n",
       "      <td>2096</td>\n",
       "      <td>Z61</td>\n",
       "      <td>Z74</td>\n",
       "      <td>2</td>\n",
       "      <td>Z93</td>\n",
       "      <td>Z101</td>\n",
       "      <td>...</td>\n",
       "      <td>Z121</td>\n",
       "      <td>49</td>\n",
       "      <td>Z143</td>\n",
       "      <td>Z152</td>\n",
       "      <td>1</td>\n",
       "      <td>Z172</td>\n",
       "      <td>2</td>\n",
       "      <td>Z191</td>\n",
       "      <td>Z201</td>\n",
       "      <td>1</td>\n",
       "    </tr>\n",
       "    <tr>\n",
       "      <th>3</th>\n",
       "      <td>Z11</td>\n",
       "      <td>42</td>\n",
       "      <td>Z32</td>\n",
       "      <td>Z42</td>\n",
       "      <td>7882</td>\n",
       "      <td>Z61</td>\n",
       "      <td>Z74</td>\n",
       "      <td>2</td>\n",
       "      <td>Z93</td>\n",
       "      <td>Z103</td>\n",
       "      <td>...</td>\n",
       "      <td>Z122</td>\n",
       "      <td>45</td>\n",
       "      <td>Z143</td>\n",
       "      <td>Z153</td>\n",
       "      <td>1</td>\n",
       "      <td>Z173</td>\n",
       "      <td>2</td>\n",
       "      <td>Z191</td>\n",
       "      <td>Z201</td>\n",
       "      <td>1</td>\n",
       "    </tr>\n",
       "    <tr>\n",
       "      <th>4</th>\n",
       "      <td>Z11</td>\n",
       "      <td>24</td>\n",
       "      <td>Z33</td>\n",
       "      <td>Z40</td>\n",
       "      <td>4870</td>\n",
       "      <td>Z61</td>\n",
       "      <td>Z73</td>\n",
       "      <td>3</td>\n",
       "      <td>Z93</td>\n",
       "      <td>Z101</td>\n",
       "      <td>...</td>\n",
       "      <td>Z124</td>\n",
       "      <td>53</td>\n",
       "      <td>Z143</td>\n",
       "      <td>Z153</td>\n",
       "      <td>2</td>\n",
       "      <td>Z173</td>\n",
       "      <td>2</td>\n",
       "      <td>Z191</td>\n",
       "      <td>Z201</td>\n",
       "      <td>2</td>\n",
       "    </tr>\n",
       "  </tbody>\n",
       "</table>\n",
       "<p>5 rows × 21 columns</p>\n",
       "</div>"
      ],
      "text/plain": [
       "    C1  N1   C2   C3    N2   C4   C5  N3   C6    C7  ...     C8  N5    C9  \\\n",
       "0  Z11   6  Z34  Z43  1169  Z65  Z75   4  Z93  Z101  ...   Z121  67  Z143   \n",
       "1  Z12  48  Z32  Z43  5951  Z61  Z73   2  Z92  Z101  ...   Z121  22  Z143   \n",
       "2  Z14  12  Z34  Z46  2096  Z61  Z74   2  Z93  Z101  ...   Z121  49  Z143   \n",
       "3  Z11  42  Z32  Z42  7882  Z61  Z74   2  Z93  Z103  ...   Z122  45  Z143   \n",
       "4  Z11  24  Z33  Z40  4870  Z61  Z73   3  Z93  Z101  ...   Z124  53  Z143   \n",
       "\n",
       "    C10 N6   C11 N7   C12   C13 LABEL  \n",
       "0  Z152  2  Z173  1  Z192  Z201     1  \n",
       "1  Z152  1  Z173  1  Z191  Z201     2  \n",
       "2  Z152  1  Z172  2  Z191  Z201     1  \n",
       "3  Z153  1  Z173  2  Z191  Z201     1  \n",
       "4  Z153  2  Z173  2  Z191  Z201     2  \n",
       "\n",
       "[5 rows x 21 columns]"
      ]
     },
     "execution_count": 19,
     "metadata": {},
     "output_type": "execute_result"
    }
   ],
   "source": [
    "\n",
    "import numpy as np # linear algebra\n",
    "import pandas as pd # data processing, CSV file I/O (e.g. pd.read_csv)\n",
    "import pickle\n",
    "import csv\n",
    "\n",
    "def leDataSet():\n",
    "    df = pd.read_csv('DatasetML.csv')\n",
    "    df.columns = colunas\n",
    "    # no dataset original tinhas dois c5\n",
    "    return df\n",
    "\n",
    "df=  leDataSet()  \n",
    "\n",
    "df.head()    \n"
   ]
  },
  {
   "cell_type": "code",
   "execution_count": 20,
   "metadata": {
    "scrolled": true
   },
   "outputs": [
    {
     "data": {
      "text/html": [
       "<div>\n",
       "<style scoped>\n",
       "    .dataframe tbody tr th:only-of-type {\n",
       "        vertical-align: middle;\n",
       "    }\n",
       "\n",
       "    .dataframe tbody tr th {\n",
       "        vertical-align: top;\n",
       "    }\n",
       "\n",
       "    .dataframe thead th {\n",
       "        text-align: right;\n",
       "    }\n",
       "</style>\n",
       "<table border=\"1\" class=\"dataframe\">\n",
       "  <thead>\n",
       "    <tr style=\"text-align: right;\">\n",
       "      <th></th>\n",
       "      <th>N1</th>\n",
       "      <th>N2</th>\n",
       "      <th>N3</th>\n",
       "      <th>N4</th>\n",
       "      <th>N5</th>\n",
       "      <th>N6</th>\n",
       "      <th>N7</th>\n",
       "      <th>LABEL</th>\n",
       "    </tr>\n",
       "  </thead>\n",
       "  <tbody>\n",
       "    <tr>\n",
       "      <th>count</th>\n",
       "      <td>1000.000000</td>\n",
       "      <td>1000.000000</td>\n",
       "      <td>1000.000000</td>\n",
       "      <td>1000.000000</td>\n",
       "      <td>1000.000000</td>\n",
       "      <td>1000.000000</td>\n",
       "      <td>1000.000000</td>\n",
       "      <td>1000.000000</td>\n",
       "    </tr>\n",
       "    <tr>\n",
       "      <th>mean</th>\n",
       "      <td>20.903000</td>\n",
       "      <td>3271.258000</td>\n",
       "      <td>2.973000</td>\n",
       "      <td>2.845000</td>\n",
       "      <td>35.546000</td>\n",
       "      <td>1.407000</td>\n",
       "      <td>1.155000</td>\n",
       "      <td>1.300000</td>\n",
       "    </tr>\n",
       "    <tr>\n",
       "      <th>std</th>\n",
       "      <td>12.058814</td>\n",
       "      <td>2822.736876</td>\n",
       "      <td>1.118715</td>\n",
       "      <td>1.103718</td>\n",
       "      <td>11.375469</td>\n",
       "      <td>0.577654</td>\n",
       "      <td>0.362086</td>\n",
       "      <td>0.458487</td>\n",
       "    </tr>\n",
       "    <tr>\n",
       "      <th>min</th>\n",
       "      <td>4.000000</td>\n",
       "      <td>250.000000</td>\n",
       "      <td>1.000000</td>\n",
       "      <td>1.000000</td>\n",
       "      <td>19.000000</td>\n",
       "      <td>1.000000</td>\n",
       "      <td>1.000000</td>\n",
       "      <td>1.000000</td>\n",
       "    </tr>\n",
       "    <tr>\n",
       "      <th>25%</th>\n",
       "      <td>12.000000</td>\n",
       "      <td>1365.500000</td>\n",
       "      <td>2.000000</td>\n",
       "      <td>2.000000</td>\n",
       "      <td>27.000000</td>\n",
       "      <td>1.000000</td>\n",
       "      <td>1.000000</td>\n",
       "      <td>1.000000</td>\n",
       "    </tr>\n",
       "    <tr>\n",
       "      <th>50%</th>\n",
       "      <td>18.000000</td>\n",
       "      <td>2319.500000</td>\n",
       "      <td>3.000000</td>\n",
       "      <td>3.000000</td>\n",
       "      <td>33.000000</td>\n",
       "      <td>1.000000</td>\n",
       "      <td>1.000000</td>\n",
       "      <td>1.000000</td>\n",
       "    </tr>\n",
       "    <tr>\n",
       "      <th>75%</th>\n",
       "      <td>24.000000</td>\n",
       "      <td>3972.250000</td>\n",
       "      <td>4.000000</td>\n",
       "      <td>4.000000</td>\n",
       "      <td>42.000000</td>\n",
       "      <td>2.000000</td>\n",
       "      <td>1.000000</td>\n",
       "      <td>2.000000</td>\n",
       "    </tr>\n",
       "    <tr>\n",
       "      <th>max</th>\n",
       "      <td>72.000000</td>\n",
       "      <td>18424.000000</td>\n",
       "      <td>4.000000</td>\n",
       "      <td>4.000000</td>\n",
       "      <td>75.000000</td>\n",
       "      <td>4.000000</td>\n",
       "      <td>2.000000</td>\n",
       "      <td>2.000000</td>\n",
       "    </tr>\n",
       "  </tbody>\n",
       "</table>\n",
       "</div>"
      ],
      "text/plain": [
       "                N1            N2           N3           N4           N5  \\\n",
       "count  1000.000000   1000.000000  1000.000000  1000.000000  1000.000000   \n",
       "mean     20.903000   3271.258000     2.973000     2.845000    35.546000   \n",
       "std      12.058814   2822.736876     1.118715     1.103718    11.375469   \n",
       "min       4.000000    250.000000     1.000000     1.000000    19.000000   \n",
       "25%      12.000000   1365.500000     2.000000     2.000000    27.000000   \n",
       "50%      18.000000   2319.500000     3.000000     3.000000    33.000000   \n",
       "75%      24.000000   3972.250000     4.000000     4.000000    42.000000   \n",
       "max      72.000000  18424.000000     4.000000     4.000000    75.000000   \n",
       "\n",
       "                N6           N7        LABEL  \n",
       "count  1000.000000  1000.000000  1000.000000  \n",
       "mean      1.407000     1.155000     1.300000  \n",
       "std       0.577654     0.362086     0.458487  \n",
       "min       1.000000     1.000000     1.000000  \n",
       "25%       1.000000     1.000000     1.000000  \n",
       "50%       1.000000     1.000000     1.000000  \n",
       "75%       2.000000     1.000000     2.000000  \n",
       "max       4.000000     2.000000     2.000000  "
      ]
     },
     "execution_count": 20,
     "metadata": {},
     "output_type": "execute_result"
    }
   ],
   "source": [
    "# first lets see the numerical features \n",
    "df.describe()\n"
   ]
  },
  {
   "cell_type": "markdown",
   "metadata": {},
   "source": []
  },
  {
   "cell_type": "code",
   "execution_count": 21,
   "metadata": {},
   "outputs": [
    {
     "data": {
      "image/png": "[encoded data removed]",
      "text/plain": [
       "<Figure size 720x576 with 7 Axes>"
      ]
     },
     "metadata": {
      "needs_background": "light"
     },
     "output_type": "display_data"
    }
   ],
   "source": [
    "import matplotlib.pyplot as plt\n",
    "\n",
    "#fig, axs = plt.subplots(1,2)\n",
    "plt.figure(figsize=(10,8))\n",
    "\n",
    "for i in range(1,8):\n",
    "    campo = 'N' + str(i)\n",
    "    std = np.std(df[campo])\n",
    "    bins = int(std ) + 1\n",
    "    y = df[campo]\n",
    "    plt.subplot(3, 3, i)\n",
    "    plt.title(campo  )\n",
    "    plt.hist(y) \n"
   ]
  },
  {
   "cell_type": "markdown",
   "metadata": {},
   "source": [
    "## Para avaliar a complexidade do modelo se usarmos codificação \"one hot, vamos dar uma olhada no número de categorias de cada coluna: \n"
   ]
  },
  {
   "cell_type": "code",
   "execution_count": 22,
   "metadata": {},
   "outputs": [
    {
     "data": {
      "image/png": "[encoded data removed]",
      "text/plain": [
       "<Figure size 432x288 with 1 Axes>"
      ]
     },
     "metadata": {
      "needs_background": "light"
     },
     "output_type": "display_data"
    },
    {
     "name": "stdout",
     "output_type": "stream",
     "text": [
      "Número de dimenções para transformação one hot: 54\n"
     ]
    }
   ],
   "source": [
    "#\n",
    "from sklearn.preprocessing import LabelEncoder\n",
    "le = LabelEncoder()\n",
    "\n",
    "def pegaNumeroClassesColuna(coluna):\n",
    "    labelencode  = le.fit_transform(df[coluna]) \n",
    "    labels=   np.unique(labelencode)\n",
    "    return len(labels)\n",
    "nomes=[]\n",
    "valores=[]\n",
    "total = 0\n",
    "for i in range(1,14):\n",
    "    colname = 'C' + str(i)\n",
    "    valor =pegaNumeroClassesColuna(colname)\n",
    "    nomes.append(colname)\n",
    "    valores.append(valor)\n",
    "    total = total+ valor\n",
    "\n",
    "\n",
    "plt.bar(nomes, valores, align='center', alpha=0.5)\n",
    "plt.ylabel('Número de classes')\n",
    "plt.title('Atributo')\n",
    "plt.show()\n",
    "\n",
    "print('Número de dimenções para transformação one hot: ' + str(total) )"
   ]
  },
  {
   "cell_type": "markdown",
   "metadata": {},
   "source": [
    "### O atributo com maior númeor de classe é o C3 com 10, a soma de todas as classes chega a 50.\n",
    "\n",
    "### Com a trasformação 'one hot' o problema que possui 20 atributos de complexidade passa a ter 61.\n",
    "\n",
    "### Vamos ver a distribuição de cada classe:\n"
   ]
  },
  {
   "cell_type": "code",
   "execution_count": 23,
   "metadata": {},
   "outputs": [
    {
     "data": {
      "image/png": "[encoded data removed]",
      "text/plain": [
       "<Figure size 720x720 with 13 Axes>"
      ]
     },
     "metadata": {
      "needs_background": "light"
     },
     "output_type": "display_data"
    }
   ],
   "source": [
    "\n",
    "def pegaClassesColuna(coluna):\n",
    "    labelencode  = le.fit_transform(df[coluna]) \n",
    "    return labelencode\n",
    "\n",
    "\n",
    "#fig, axs = plt.subplots(1,2)\n",
    "plt.figure(figsize=(10,10))\n",
    "for i in range(1,14):\n",
    "    campo = 'C' + str(i)\n",
    "    y = pegaClassesColuna(campo)\n",
    "    plt.subplot(3, 5, i)\n",
    "    plt.title(\"Dist. \" + campo  )\n",
    "    plt.hist(y) \n"
   ]
  },
  {
   "cell_type": "markdown",
   "metadata": {},
   "source": [
    "###  Procedendo com a codificação 'one hot' recomendada para problemas de classificação com atributos  categóricos: "
   ]
  },
  {
   "cell_type": "code",
   "execution_count": 24,
   "metadata": {},
   "outputs": [],
   "source": [
    "\n",
    "# dicionario dos One Hot enconders utilizados\n",
    "OneHorEncoders = {}\n",
    "\n",
    "\n",
    "from sklearn.preprocessing import OneHotEncoder\n",
    "def get_encoder_inst(feature_col, name):\n",
    "    \"\"\"\n",
    "    returns: an instance of sklearn OneHotEncoder fit against a (training) column feature;\n",
    "    such instance is saved and can then be loaded to transform unseen data\n",
    "    \"\"\"\n",
    "    assert isinstance(feature_col, pd.Series)\n",
    "    feature_vec = feature_col.sort_values().values.reshape(-1, 1)\n",
    "    enc = OneHotEncoder(handle_unknown='ignore')\n",
    "    enc.fit(feature_vec) \n",
    "    OneHorEncoders[name] = enc;\n",
    "    #with open('Codificador'+ name, 'wb') as output_file:\n",
    "     #       pickle.dump(enc, output_file)\n",
    "    return enc \n",
    "\n",
    "def get_one_hot_enc(feature_col, enc, nome):\n",
    "    \"\"\"\n",
    "    maps an unseen column feature using one-hot-encoding previously fit against training data \n",
    "    returns: a pd.DataFrame of newly one-hot-encoded feature\n",
    "    \"\"\"\n",
    "    assert isinstance(feature_col, pd.Series)\n",
    "    assert isinstance(enc, OneHotEncoder)\n",
    "    unseen_vec = feature_col.values.reshape(-1, 1)\n",
    "    encoded_vec = enc.transform(unseen_vec).toarray()\n",
    "    encoded_df = pd.DataFrame(encoded_vec)\n",
    "    encoded_df.columns = [nome + str(col) for col in encoded_df.columns]\n",
    "    return encoded_df\n",
    "\n",
    "\n",
    "\n",
    "\n"
   ]
  },
  {
   "cell_type": "code",
   "execution_count": 49,
   "metadata": {},
   "outputs": [
    {
     "name": "stdout",
     "output_type": "stream",
     "text": [
      "(1000, 21)\n",
      "(1000, 62)\n",
      "Data set completo:\n",
      "(1000,)\n",
      "(1000, 61)\n",
      "Dataset de treino: \n",
      "(700,)\n",
      "(700, 61)\n",
      "Dataset para teste : \n",
      "(300,)\n",
      "(300, 61)\n"
     ]
    },
    {
     "name": "stderr",
     "output_type": "stream",
     "text": [
      "/usr/local/lib/python3.6/dist-packages/ipykernel_launcher.py:30: FutureWarning: Method .as_matrix will be removed in a future version. Use .values instead.\n"
     ]
    }
   ],
   "source": [
    "from sklearn.model_selection import train_test_split\n",
    "\n",
    "df=  leDataSet() \n",
    "print(df.shape)\n",
    "\n",
    "def transformaOneHotC(colName, df):\n",
    "    enc= get_encoder_inst(df[colName], colName )\n",
    "    one_cla = get_one_hot_enc(df[colName], enc, colName + '_' )\n",
    "    df = pd.concat([df,one_cla],axis=1)\n",
    "    df.drop([colName],axis=1, inplace=True)\n",
    "    return df\n",
    "\n",
    "def transformaOneHot(df):\n",
    "    OneHorEncoders = {}\n",
    "    for i in range(1,14):\n",
    "        campo = 'C' + str(i)\n",
    "        df = transformaOneHotC(campo, df)\n",
    "    \n",
    "    return df\n",
    "\n",
    "\n",
    "df = transformaOneHot(df)\n",
    "\n",
    "print(df.shape)    \n",
    "df.head(3)\n",
    "\n",
    "\n",
    "true_y = df['LABEL']\n",
    "df.drop(['LABEL'],axis=1, inplace=True)\n",
    "Xmatrix = df.as_matrix()\n",
    "\n",
    "print('Data set completo:' )\n",
    "print(true_y.shape)\n",
    "print(Xmatrix.shape)\n",
    "\n",
    "x_train, x_test, y_train, y_test = train_test_split(Xmatrix, true_y, test_size = 0.3, shuffle=True, random_state = 17)\n",
    "\n",
    "print('Dataset de treino: ' )\n",
    "print(y_train.shape)\n",
    "print(x_train.shape)\n",
    "\n",
    "print('Dataset para teste : ' )\n",
    "print(y_test.shape)\n",
    "print(x_test.shape)\n",
    "\n",
    "\n"
   ]
  },
  {
   "cell_type": "markdown",
   "metadata": {},
   "source": [
    "# 3. Criação e avaliação de modelos de previsão\n",
    "\n",
    "Para a realização do modelo fiz testes com 3 algoritmos, que vem apresentando bons resultados para a maioria dos problemas:\n",
    "\n",
    "   1.  GradientBoostingClassifier - Considerado um dos melhores algoritmos de classificação.\n",
    "   \n",
    "   2.  RandomForestClassifier -  Normamente não traz o mesmo resultado que o GradientBoostingClassifier mas costuma apresentar um menor viés.\n",
    "   \n",
    "   3. Suporte vector Machine - Outro algoritimo que vem apresentando bons resultados. \n",
    "   \n"
   ]
  },
  {
   "cell_type": "code",
   "execution_count": 26,
   "metadata": {},
   "outputs": [],
   "source": [
    "# funcap para calcula f1-dcore\n",
    "from sklearn.metrics import f1_score\n",
    "\n",
    "def getAcuracy(classificador, x, y_true ):\n",
    "    y_pret_treino = classificador.predict(x) \n",
    "    f1_s = f1_score(y_true, y_pret_treino, average='macro')  \n",
    "    return f1_s\n",
    "\n"
   ]
  },
  {
   "cell_type": "markdown",
   "metadata": {},
   "source": [
    " \n",
    "## GradientBoostingClassifier Model  \n"
   ]
  },
  {
   "cell_type": "code",
   "execution_count": 58,
   "metadata": {},
   "outputs": [
    {
     "name": "stdout",
     "output_type": "stream",
     "text": [
      "0.9542857142857143\n",
      "{'learning_rate': 0.05, 'max_depth': 5, 'n_estimators': 70, 'subsample': 0.6}\n",
      "Erro de treino\n",
      "     F1-Score treino  0.9429526099180963\n",
      "     F1-Score teste  0.667869620853762\n"
     ]
    }
   ],
   "source": [
    "\n",
    "from sklearn import ensemble\n",
    "from sklearn import datasets\n",
    "from sklearn.utils import shuffle\n",
    "from sklearn.metrics import mean_squared_error\n",
    "from sklearn.ensemble import GradientBoostingClassifier\n",
    "\n",
    "def boostingGridResolve(X_train, y_train, X_test, y_test ):\n",
    "    from sklearn.model_selection import GridSearchCV\n",
    "       \n",
    "    parameters = {\n",
    "        \"learning_rate\": [0.02, 0.05],\n",
    "            \"max_depth\":[3, 5, 7],\n",
    "        \"subsample\":[0.4 , 0.6, 0.8],\n",
    "        \"n_estimators\":[  40,  50, 55, 60]\n",
    "    }\n",
    "    \n",
    "    clf = GridSearchCV(GradientBoostingClassifier(), parameters, cv=4, n_jobs=-1)\n",
    "    clf.fit(X_train, y_train)\n",
    "    print(clf.score(X_train, y_train))\n",
    "    print(clf.best_params_)\n",
    "    print(\"Erro de treino\")\n",
    "    \n",
    "    \n",
    "    print(\"     F1-Score treino \",  getAcuracy( clf, X_train, y_train))\n",
    "    print(\"     F1-Score teste \",  getAcuracy( clf, X_test, y_test))\n",
    "    return clf\n",
    "        \n",
    "\n",
    "boostingClassifier = boostingGridResolve(x_train, y_train, x_test, y_test)\n"
   ]
  },
  {
   "cell_type": "markdown",
   "metadata": {},
   "source": [
    " \n",
    "## RandomForestClassifier Model  \n"
   ]
  },
  {
   "cell_type": "code",
   "execution_count": 31,
   "metadata": {},
   "outputs": [
    {
     "name": "stdout",
     "output_type": "stream",
     "text": [
      "Fitting 5 folds for each of 162 candidates, totalling 810 fits\n"
     ]
    },
    {
     "name": "stderr",
     "output_type": "stream",
     "text": [
      "[Parallel(n_jobs=-1)]: Using backend LokyBackend with 4 concurrent workers.\n",
      "[Parallel(n_jobs=-1)]: Done  76 tasks      | elapsed:    2.9s\n",
      "[Parallel(n_jobs=-1)]: Done 376 tasks      | elapsed:   14.5s\n"
     ]
    },
    {
     "name": "stdout",
     "output_type": "stream",
     "text": [
      "0.7657142857142857\n",
      "{'max_depth': 10, 'min_samples_leaf': 1, 'min_samples_split': 0.1, 'n_estimators': 50}\n",
      "     F1-Score treino  0.6237299246148804\n",
      "     F1-Score teste  0.5487604183256358\n"
     ]
    },
    {
     "name": "stderr",
     "output_type": "stream",
     "text": [
      "[Parallel(n_jobs=-1)]: Done 810 out of 810 | elapsed:   37.6s finished\n"
     ]
    }
   ],
   "source": [
    "\n",
    "from sklearn import ensemble\n",
    "from sklearn import datasets\n",
    "from sklearn.utils import shuffle\n",
    "from sklearn.metrics import mean_squared_error\n",
    "from sklearn.ensemble import RandomForestClassifier\n",
    "\n",
    "def randonForestResolve(X_train, y_train, X_test, y_test ):\n",
    "    from sklearn.model_selection import GridSearchCV\n",
    "    \n",
    "    \n",
    "    # Set the parameters by cross-validation\n",
    "    parameters = {'n_estimators': [50, 100, 200], \n",
    "                  'max_depth': [ 1, 2, 3, 8, 10, 20],\n",
    "                  'min_samples_split': [0.1, 0.4, 0.7],\n",
    "                  'min_samples_leaf': [1, 2, 4]\n",
    "                 }\n",
    "\n",
    "    # clf = ensemble.RandomForestRegressor(n_estimators=500, n_jobs=1, verbose=1)\n",
    "    clf = GridSearchCV(ensemble.RandomForestClassifier(), parameters, cv=5,  n_jobs=-1, verbose=1)\n",
    "    \n",
    "    \n",
    "    clf.fit(X_train, y_train)\n",
    "    print(clf.score(X_train, y_train))\n",
    "    print(clf.best_params_)\n",
    "    \n",
    "    y_pret_treino = clf.predict(X_train)\n",
    "    \n",
    "    print(\"     F1-Score treino \",  getAcuracy( clf, X_train, y_train))\n",
    "    print(\"     F1-Score teste \",  getAcuracy( clf, X_test, y_test))\n",
    "    \n",
    "    \n",
    "    return clf\n",
    "\n",
    "\n",
    "randonClassifier = randonForestResolve(x_train, y_train, x_test, y_test)\n",
    "\n",
    "\n"
   ]
  },
  {
   "cell_type": "markdown",
   "metadata": {},
   "source": [
    "## Support Vector Machines  (SVM) Classifier Model  "
   ]
  },
  {
   "cell_type": "code",
   "execution_count": 61,
   "metadata": {},
   "outputs": [
    {
     "name": "stdout",
     "output_type": "stream",
     "text": [
      "0.8142857142857143\n",
      "{'C': 150, 'gamma': 0.001, 'kernel': 'rbf'}\n",
      "     F1-Score treino  0.7612175282078194\n",
      "     F1-Score teste  0.655266757865937\n"
     ]
    },
    {
     "name": "stderr",
     "output_type": "stream",
     "text": [
      "/usr/local/lib/python3.6/dist-packages/sklearn/model_selection/_search.py:814: DeprecationWarning: The default of the `iid` parameter will change from True to False in version 0.22 and will be removed in 0.24. This will change numeric results when test-set sizes are unequal.\n",
      "  DeprecationWarning)\n"
     ]
    }
   ],
   "source": [
    "\n",
    "from sklearn import ensemble\n",
    "from sklearn import datasets\n",
    "from sklearn.utils import shuffle\n",
    "from sklearn.metrics import mean_squared_error\n",
    "from sklearn.ensemble import RandomForestRegressor\n",
    "from sklearn.svm import SVC\n",
    "from sklearn.preprocessing import MaxAbsScaler\n",
    "from sklearn import datasets\n",
    "from sklearn.model_selection import train_test_split\n",
    "from sklearn.model_selection import GridSearchCV\n",
    "from sklearn.metrics import classification_report\n",
    "from sklearn.svm import SVC\n",
    "\n",
    "\n",
    "def SVMResolve(X_train_o, y_train, X_test_o, y_test ):\n",
    "     \n",
    "    transformer = MaxAbsScaler().fit(X_train_o)\n",
    "    X_train = transformer.transform(X_train_o)\n",
    "    X_test = transformer.transform(X_test_o)\n",
    "    \n",
    "    # Set the parameters by cross-validation\n",
    "    tuned_parameters = [{'kernel': ['rbf'],\n",
    "                         'gamma': [1e-3, 1e-4],\n",
    "                         'C': [1, 10, 100, 150]},\n",
    "                    ]\n",
    "    \n",
    "        \n",
    "    clf = GridSearchCV(SVC(), tuned_parameters, cv=5)\n",
    "    clf.fit(X_train, y_train)\n",
    "    print(clf.score(X_train, y_train))\n",
    "    print(clf.best_params_)\n",
    "    \n",
    "    print(\"     F1-Score treino \",  getAcuracy( clf, X_train, y_train))\n",
    "    print(\"     F1-Score teste \",  getAcuracy( clf, X_test, y_test))\n",
    "    \n",
    "    return clf\n",
    "\n",
    "\n",
    "SVMclassifier = SVMResolve(x_train, y_train, x_test, y_test)\n"
   ]
  },
  {
   "cell_type": "code",
   "execution_count": 62,
   "metadata": {},
   "outputs": [
    {
     "name": "stdout",
     "output_type": "stream",
     "text": [
      "Resultados GradientBoostingClassifier \n",
      "     F1-Score treino  0.9429526099180963\n",
      "     F1-Score treino  0.667869620853762\n",
      "Resultados RandomForestClassifier \n",
      "     F1-Score treino  0.6237299246148804\n",
      "     F1-Score treino  0.5487604183256358\n",
      "Resultados svm classifier \n",
      "     F1-Score treino  0.7612175282078194\n",
      "     F1-Score treino  0.655266757865937\n"
     ]
    }
   ],
   "source": [
    "from sklearn.metrics import f1_score\n",
    "\n",
    "def getAcuracy(classificador, x, y_true ):\n",
    "    y_pret_treino = classificador.predict(x) \n",
    "    f1_s = f1_score(y_true, y_pret_treino, average='macro')  \n",
    "    return f1_s\n",
    "print(\"Resultados GradientBoostingClassifier \")\n",
    "print(\"     F1-Score treino \",  getAcuracy( boostingClassifier, x_train, y_train))\n",
    "print(\"     F1-Score treino \",  getAcuracy( boostingClassifier, x_test, y_test))\n",
    "print(\"Resultados RandomForestClassifier \")\n",
    "print(\"     F1-Score treino \",  getAcuracy( randonClassifier, x_train, y_train))\n",
    "print(\"     F1-Score treino \",  getAcuracy( randonClassifier, x_test, y_test))\n",
    "print(\"Resultados svm classifier \")\n",
    "transformer = MaxAbsScaler().fit(x_train)\n",
    "X_trainSVM = transformer.transform(x_train)\n",
    "X_testSVM = transformer.transform(x_test)\n",
    "    \n",
    "print(\"     F1-Score treino \",  getAcuracy( SVMclassifier, X_trainSVM, y_train))\n",
    "print(\"     F1-Score treino \",  getAcuracy( SVMclassifier, X_testSVM, y_test))\n",
    "\n",
    "\n"
   ]
  },
  {
   "cell_type": "markdown",
   "metadata": {},
   "source": [
    "## Análise\n",
    "\n",
    "Os algoritmos GradientBoostingClassifier e SVM trouxeram resultados próximos, com leve vantagem para GradientBoostingClassifier.\n",
    "\n",
    "Um possível ponto de vantagem para SVM seria em relação ao domínio dos atributos numéricos.  O SVM costuma ser mais efetivo caso o uso de valores fora dos intervalos contidos no dataset de treino. Contudo, como não tenho informação a respeito do problema real e não sei se tal situação se aplica ao problema proposto, logo, resolvi optar pelo modelo   __GradientBoostingClassifier__..\n",
    "\n",
    "\n",
    "Vamos olhar com mais detalhes os resultados do modelo do GradientBoostingClassifier:\n",
    "\n",
    "\n"
   ]
  },
  {
   "cell_type": "code",
   "execution_count": 63,
   "metadata": {},
   "outputs": [
    {
     "name": "stdout",
     "output_type": "stream",
     "text": [
      "     Resultados de teste (final) GradientBoostingClassifier  \n",
      "              precision    recall  f1-score   support\n",
      "\n",
      "    Classe 1       0.78      0.88      0.83       208\n",
      "    Classe 2       0.62      0.43      0.51        92\n",
      "\n",
      "    accuracy                           0.74       300\n",
      "   macro avg       0.70      0.66      0.67       300\n",
      "weighted avg       0.73      0.74      0.73       300\n",
      "\n"
     ]
    },
    {
     "data": {
      "image/png": "[encoded data removed]",
      "text/plain": [
       "<Figure size 180x180 with 1 Axes>"
      ]
     },
     "metadata": {
      "needs_background": "light"
     },
     "output_type": "display_data"
    },
    {
     "name": "stdout",
     "output_type": "stream",
     "text": [
      "     Resultados de teste (final) SVM  \n",
      "              precision    recall  f1-score   support\n",
      "\n",
      "    Classe 1       0.78      0.83      0.80       208\n",
      "    Classe 2       0.55      0.47      0.51        92\n",
      "\n",
      "    accuracy                           0.72       300\n",
      "   macro avg       0.67      0.65      0.66       300\n",
      "weighted avg       0.71      0.72      0.71       300\n",
      "\n"
     ]
    },
    {
     "data": {
      "image/png": "[encoded data removed]",
      "text/plain": [
       "<Figure size 180x180 with 1 Axes>"
      ]
     },
     "metadata": {
      "needs_background": "light"
     },
     "output_type": "display_data"
    }
   ],
   "source": [
    "from sklearn.metrics import classification_report\n",
    "from sklearn.metrics import confusion_matrix\n",
    "\n",
    "def imprimeReport(classificador, x, y_True):\n",
    "    target_names = ['Classe 1', 'Classe 2']\n",
    "    y_predicted = classificador.predict(x) \n",
    "    print(classification_report(y_True, y_predicted, target_names=target_names))\n",
    "    \n",
    "    confmat = confusion_matrix(y_true=y_True, y_pred=y_predicted)\n",
    "    \n",
    "    \n",
    "    fig, ax = plt.subplots(figsize=(2.5, 2.5))\n",
    "    ax.matshow(confmat, cmap=plt.cm.Blues, alpha=0.3)\n",
    "    for i in range(confmat.shape[0]):\n",
    "        for j in range(confmat.shape[1]):\n",
    "            ax.text(x=j, y=i, s=confmat[i, j], va='center', ha='center')\n",
    "            \n",
    "\n",
    "    plt.xlabel('predicted label')\n",
    "    plt.ylabel('true label')\n",
    "\n",
    "    plt.tight_layout()\n",
    "    plt.show()\n",
    "              \n",
    "\n",
    "print(\"     Resultados de teste (final) GradientBoostingClassifier  \")\n",
    "imprimeReport( boostingClassifier, x_test, y_test)\n",
    "\n",
    "\n",
    "print(\"     Resultados de teste (final) SVM  \")\n",
    "imprimeReport( SVMclassifier, X_testSVM, y_test)\n",
    "\n",
    "\n"
   ]
  },
  {
   "cell_type": "markdown",
   "metadata": {},
   "source": [
    "## Examinando a matriz de confusão, fica evidente que o modelo não é uniforme, apresentando desempenho inferior na classificação da categoria \"2\".\n",
    "\n"
   ]
  },
  {
   "cell_type": "markdown",
   "metadata": {},
   "source": [
    "# 4 Testes de serialização do modelo e do codificador  \"one hot\"  \n",
    "\n",
    "  Como parte do desafio é a realização de um REST API para a utilização do modelo de construído, precisamos serializar o codificador \"one hot\" e o classificador para sua utilização como serviço.\n",
    "  \n",
    "  A seguir, o código de serialização e seus testes: \n",
    "  "
   ]
  },
  {
   "cell_type": "code",
   "execution_count": 64,
   "metadata": {},
   "outputs": [
    {
     "name": "stdout",
     "output_type": "stream",
     "text": [
      "     Resultados de teste com modelo salvo \n",
      "              precision    recall  f1-score   support\n",
      "\n",
      "    Classe 1       0.78      0.88      0.83       208\n",
      "    Classe 2       0.62      0.43      0.51        92\n",
      "\n",
      "    accuracy                           0.74       300\n",
      "   macro avg       0.70      0.66      0.67       300\n",
      "weighted avg       0.73      0.74      0.73       300\n",
      "\n"
     ]
    },
    {
     "data": {
      "image/png": "[encoded data removed]",
      "text/plain": [
       "<Figure size 180x180 with 1 Axes>"
      ]
     },
     "metadata": {
      "needs_background": "light"
     },
     "output_type": "display_data"
    }
   ],
   "source": [
    "import pickle\n",
    "import csv\n",
    "# testando pickle  para serializar o modleo \n",
    "outfile = open('ClassificadorEgoi','wb')\n",
    "pickle.dump(boostingClassifier,outfile)\n",
    "outfile.close()\n",
    "\n",
    "\n",
    "infile = open('ClassificadorEgoi','rb')\n",
    "modelo = pickle.load(infile)\n",
    "infile.close()\n",
    "\n",
    "print(\"     Resultados de teste com modelo salvo \")\n",
    "imprimeReport( modelo, x_test, y_test)\n",
    "              \n",
    "\n",
    "\n"
   ]
  },
  {
   "cell_type": "code",
   "execution_count": 65,
   "metadata": {},
   "outputs": [],
   "source": [
    "\n",
    "# dicionario dos enconders utilizados\n",
    "\n",
    "# salva a lista de encoders\n",
    "with open('OneHotCodificadores', 'wb') as output_file:\n",
    "        pickle.dump(OneHorEncoders, output_file)\n",
    "        \n",
    "file = open('OneHotCodificadores','rb')\n",
    "OneHotEncodersCarregado= pickle.load(file)\n",
    "        \n"
   ]
  },
  {
   "cell_type": "markdown",
   "metadata": {},
   "source": [
    "## Testar o codificador  \"One Hot \" serializado\n"
   ]
  },
  {
   "cell_type": "code",
   "execution_count": 66,
   "metadata": {},
   "outputs": [
    {
     "name": "stdout",
     "output_type": "stream",
     "text": [
      "Vereficando em  592  Matriz  = True\n",
      "Vereficando em  40  Matriz  = True\n",
      "Vereficando em  406  Matriz  = True\n",
      "Vereficando em  323  Matriz  = True\n",
      "Vereficando em  343  Matriz  = True\n",
      "Vereficando em  919  Matriz  = True\n",
      "Vereficando em  635  Matriz  = True\n",
      "Vereficando em  966  Matriz  = True\n",
      "Vereficando em  878  Matriz  = True\n",
      "Vereficando em  622  Matriz  = True\n",
      "Vereficando em  628  Matriz  = True\n",
      "Vereficando em  489  Matriz  = True\n",
      "Vereficando em  511  Matriz  = True\n",
      "Vereficando em  912  Matriz  = True\n",
      "Vereficando em  634  Matriz  = True\n",
      "Vereficando em  113  Matriz  = True\n",
      "Vereficando em  567  Matriz  = True\n",
      "Vereficando em  913  Matriz  = True\n",
      "Vereficando em  191  Matriz  = True\n",
      "Vereficando em  346  Matriz  = True\n",
      "Vereficando em  818  Matriz  = True\n",
      "Vereficando em  855  Matriz  = True\n",
      "Vereficando em  391  Matriz  = True\n",
      "Vereficando em  173  Matriz  = True\n",
      "Vereficando em  724  Matriz  = True\n",
      "Vereficando em  602  Matriz  = True\n",
      "Vereficando em  947  Matriz  = True\n",
      "Vereficando em  55  Matriz  = True\n",
      "Vereficando em  593  Matriz  = True\n",
      "Vereficando em  897  Matriz  = True\n",
      "Vereficando em  926  Matriz  = True\n",
      "Vereficando em  743  Matriz  = True\n",
      "Vereficando em  384  Matriz  = True\n",
      "Vereficando em  71  Matriz  = True\n",
      "Vereficando em  158  Matriz  = True\n",
      "Vereficando em  950  Matriz  = True\n",
      "Vereficando em  778  Matriz  = True\n",
      "Vereficando em  647  Matriz  = True\n",
      "Vereficando em  781  Matriz  = True\n",
      "Vereficando em  64  Matriz  = True\n",
      "Vereficando em  329  Matriz  = True\n",
      "Vereficando em  559  Matriz  = True\n",
      "Vereficando em  141  Matriz  = True\n",
      "Vereficando em  455  Matriz  = True\n",
      "Vereficando em  822  Matriz  = True\n",
      "Vereficando em  871  Matriz  = True\n",
      "Vereficando em  316  Matriz  = True\n",
      "Vereficando em  592  Matriz  = True\n",
      "Vereficando em  199  Matriz  = True\n",
      "Vereficando em  135  Matriz  = True\n"
     ]
    },
    {
     "data": {
      "text/plain": [
       "(61,)"
      ]
     },
     "execution_count": 66,
     "metadata": {},
     "output_type": "execute_result"
    }
   ],
   "source": [
    "\n",
    "\n",
    "from sklearn.preprocessing import OneHotEncoder\n",
    "def getoneHotColum(nome, valor ): \n",
    "    enc = OneHotEncodersCarregado[nome]\n",
    "    col_enc =  enc.transform([[valor]])\n",
    "    return col_enc.toarray()\n",
    "\n",
    "\n",
    "def getValuesDic(dic ):\n",
    "    \n",
    "    vetc = np.zeros(0)\n",
    "    for c in colunas:\n",
    "        if c.find(\"N\") == 0:\n",
    "            valor = int(dic[c])\n",
    "            vetc = np.concatenate((vetc, np.array([valor])), axis=0)\n",
    "    return vetc\n",
    "\n",
    "\n",
    "def getoneHotVector(dic , vetc):\n",
    "    for c in colunas:\n",
    "        if c.find(\"C\") == 0: \n",
    "            valor = dic[c]\n",
    "            array = getoneHotColum (c, valor )\n",
    "            vetc = np.concatenate((vetc, array.flatten()), axis=0)\n",
    "            #for x in array.flatten():\n",
    "             #   vetc = np.concatenate((vetc, np.array([x])), axis=0)\n",
    "    return vetc\n",
    "\n",
    "\n",
    "def encodeDic(dic ):\n",
    "    vetc = getValuesDic(dic)\n",
    "    vetc = getoneHotVector(dic, vetc)\n",
    "    return  vetc\n",
    "    \n",
    "    \n",
    "\n",
    "dfteste=  leDataSet()  \n",
    "dfteste2=  leDataSet()  \n",
    "dfteste2 = transformaOneHot(dfteste2)\n",
    "\n",
    "true_y = dfteste2['LABEL']\n",
    "dfteste2.drop(['LABEL'],axis=1, inplace=True)\n",
    "\n",
    "### vamos comparar os encoders o primeiro vindo do pandas (utilizado no modelo)\n",
    "# o segundo de um dicionario a ser utilizado no servico \n",
    "\n",
    "\n",
    "for i in  np.random.randint(1000, size=50):\n",
    "    dic= dfteste.iloc[i].to_dict() \n",
    "    vetc= encodeDic(dic)\n",
    "    print ('Vereficando em ', i , ' Matriz  =', np.array_equal(vetc,dfteste2.iloc[i][0:61])  )\n",
    "    \n",
    "\n",
    "dic= dfteste.iloc[i].to_dict() \n",
    "vetc= encodeDic(dic)\n",
    "vetc.shape\n",
    "\n",
    "  "
   ]
  },
  {
   "cell_type": "code",
   "execution_count": null,
   "metadata": {},
   "outputs": [],
   "source": [
    "\n"
   ]
  },
  {
   "cell_type": "code",
   "execution_count": 47,
   "metadata": {},
   "outputs": [
    {
     "data": {
      "text/plain": [
       "2"
      ]
     },
     "execution_count": 47,
     "metadata": {},
     "output_type": "execute_result"
    }
   ],
   "source": []
  },
  {
   "cell_type": "code",
   "execution_count": null,
   "metadata": {},
   "outputs": [],
   "source": []
  },
  {
   "cell_type": "code",
   "execution_count": null,
   "metadata": {},
   "outputs": [],
   "source": []
  }
 ],
 "metadata": {
  "kernelspec": {
   "display_name": "Python 3",
   "language": "python",
   "name": "python3"
  },
  "language_info": {
   "codemirror_mode": {
    "name": "ipython",
    "version": 3
   },
   "file_extension": ".py",
   "mimetype": "text/x-python",
   "name": "python",
   "nbconvert_exporter": "python",
   "pygments_lexer": "ipython3",
   "version": "3.6.8"
  }
 },
 "nbformat": 4,
 "nbformat_minor": 2
}
